{
 "cells": [
  {
   "cell_type": "code",
   "execution_count": 73,
   "metadata": {},
   "outputs": [],
   "source": [
    "import requests\n",
    "import bs4"
   ]
  },
  {
   "cell_type": "code",
   "execution_count": 74,
   "metadata": {
    "collapsed": true
   },
   "outputs": [],
   "source": [
    "base_link = 'https://summerofcode.withgoogle.com'\n",
    "organisations_links = []\n",
    "org_links = []\n",
    "org_tech = []\n",
    "org_name = []\n",
    "org_descp = []\n",
    "org_topics = []\n",
    "org_mail = []"
   ]
  },
  {
   "cell_type": "code",
   "execution_count": 75,
   "metadata": {},
   "outputs": [],
   "source": [
    "res = requests.get('https://summerofcode.withgoogle.com/archive/2017/organizations/')"
   ]
  },
  {
   "cell_type": "code",
   "execution_count": 76,
   "metadata": {},
   "outputs": [],
   "source": [
    "soup = bs4.BeautifulSoup(res.content,\"lxml\")"
   ]
  },
  {
   "cell_type": "code",
   "execution_count": 77,
   "metadata": {},
   "outputs": [],
   "source": [
    "links = soup.find_all(\"a\",{'class':\"organization-card__link\"})"
   ]
  },
  {
   "cell_type": "code",
   "execution_count": 78,
   "metadata": {},
   "outputs": [],
   "source": [
    "for link in links:\n",
    "    organisations_links.append(base_link + link.get('href'))"
   ]
  },
  {
   "cell_type": "code",
   "execution_count": null,
   "metadata": {},
   "outputs": [],
   "source": [
    "for org in organisations_links:\n",
    "    res1 = requests.get(org)\n",
    "    soup1 = bs4.BeautifulSoup(res1.content,\"lxml\")\n",
    "    org_links.append(soup1.find(\"a\",{'class':\"org__link\"}).get('href'))\n",
    "    techn =  soup1.find_all(\"li\" ,{'class':'organization__tag organization__tag--technology'})\n",
    "    tl = []\n",
    "    for tech in techn:\n",
    "        tl . append(tech.string)\n",
    "        print(tech.string)\n",
    "    org_tech.append(tech)\n",
    "    meta_button = soup1.find_all(\"md-button\",{\"class\":\"md-primary org__meta-button\"})\n",
    "    org_mail.append(meta_button[-1].get('href')[7:])\n",
    "    org_descp.append(decp.p.string)\n",
    "    org_name.append( soup1.find('h3',{ 'class':\"banner__title\"}).string)\n"
   ]
  },
  {
   "cell_type": "code",
   "execution_count": null,
   "metadata": {
    "collapsed": true
   },
   "outputs": [],
   "source": []
  },
  {
   "cell_type": "code",
   "execution_count": null,
   "metadata": {
    "collapsed": true
   },
   "outputs": [],
   "source": [
    "#### creating database"
   ]
  },
  {
   "cell_type": "code",
   "execution_count": 98,
   "metadata": {},
   "outputs": [
    {
     "name": "stdout",
     "output_type": "stream",
     "text": [
      "Opened database successfully\n",
      "Table created successfully\n",
      "success\n",
      "success\n",
      "success\n",
      "success\n",
      "success\n",
      "success\n",
      "success\n",
      "success\n",
      "success\n",
      "success\n",
      "success\n",
      "success\n",
      "success\n",
      "success\n",
      "success\n",
      "success\n",
      "success\n",
      "success\n",
      "success\n",
      "success\n",
      "success\n",
      "success\n",
      "success\n",
      "success\n",
      "success\n",
      "success\n",
      "success\n",
      "success\n",
      "success\n",
      "success\n",
      "success\n",
      "success\n",
      "success\n",
      "success\n",
      "success\n",
      "success\n",
      "success\n",
      "success\n",
      "success\n"
     ]
    },
    {
     "ename": "IndexError",
     "evalue": "list index out of range",
     "output_type": "error",
     "traceback": [
      "\u001b[0;31m---------------------------------------------------------------------------\u001b[0m",
      "\u001b[0;31mIndexError\u001b[0m                                Traceback (most recent call last)",
      "\u001b[0;32m<ipython-input-98-e24e5e05bbf2>\u001b[0m in \u001b[0;36m<module>\u001b[0;34m()\u001b[0m\n\u001b[1;32m     15\u001b[0m \u001b[0;32mfor\u001b[0m \u001b[0mi\u001b[0m \u001b[0;32min\u001b[0m \u001b[0mrange\u001b[0m\u001b[0;34m(\u001b[0m\u001b[0mlen\u001b[0m\u001b[0;34m(\u001b[0m\u001b[0morganisations_links\u001b[0m\u001b[0;34m)\u001b[0m\u001b[0;34m)\u001b[0m\u001b[0;34m:\u001b[0m\u001b[0;34m\u001b[0m\u001b[0m\n\u001b[1;32m     16\u001b[0m     \u001b[0mprint\u001b[0m\u001b[0;34m(\u001b[0m\u001b[0;34m\"success\"\u001b[0m\u001b[0;34m)\u001b[0m\u001b[0;34m\u001b[0m\u001b[0m\n\u001b[0;32m---> 17\u001b[0;31m     \u001b[0mconn\u001b[0m\u001b[0;34m.\u001b[0m\u001b[0mexecute\u001b[0m\u001b[0;34m(\u001b[0m\u001b[0;34m\"INSERT INTO ORGS VALUES('\"\u001b[0m\u001b[0;34m+\u001b[0m\u001b[0morg_name\u001b[0m\u001b[0;34m[\u001b[0m\u001b[0mi\u001b[0m\u001b[0;34m]\u001b[0m\u001b[0;34m+\u001b[0m \u001b[0;34m\"','\"\u001b[0m\u001b[0;34m+\u001b[0m\u001b[0mstr\u001b[0m\u001b[0;34m(\u001b[0m\u001b[0morg_links\u001b[0m\u001b[0;34m[\u001b[0m\u001b[0mi\u001b[0m\u001b[0;34m]\u001b[0m\u001b[0;34m)\u001b[0m\u001b[0;34m+\u001b[0m\u001b[0;34m\"','\"\u001b[0m\u001b[0;34m+\u001b[0m\u001b[0mstr\u001b[0m\u001b[0;34m(\u001b[0m\u001b[0morg_descp\u001b[0m\u001b[0;34m[\u001b[0m\u001b[0mi\u001b[0m\u001b[0;34m]\u001b[0m\u001b[0;34m)\u001b[0m\u001b[0;34m+\u001b[0m\u001b[0;34m\"','\"\u001b[0m\u001b[0;34m+\u001b[0m\u001b[0mstr\u001b[0m\u001b[0;34m(\u001b[0m\u001b[0morg_tech\u001b[0m\u001b[0;34m[\u001b[0m\u001b[0mi\u001b[0m\u001b[0;34m]\u001b[0m\u001b[0;34m)\u001b[0m\u001b[0;34m+\u001b[0m\u001b[0;34m\"','\"\u001b[0m\u001b[0;34m+\u001b[0m\u001b[0mstr\u001b[0m\u001b[0;34m(\u001b[0m\u001b[0morg_mail\u001b[0m\u001b[0;34m[\u001b[0m\u001b[0mi\u001b[0m\u001b[0;34m]\u001b[0m\u001b[0;34m)\u001b[0m\u001b[0;34m+\u001b[0m\u001b[0;34m\"');\"\u001b[0m\u001b[0;34m)\u001b[0m\u001b[0;34m\u001b[0m\u001b[0m\n\u001b[0m\u001b[1;32m     18\u001b[0m \u001b[0mconn\u001b[0m\u001b[0;34m.\u001b[0m\u001b[0mclose\u001b[0m\u001b[0;34m(\u001b[0m\u001b[0;34m)\u001b[0m\u001b[0;34m\u001b[0m\u001b[0m\n",
      "\u001b[0;31mIndexError\u001b[0m: list index out of range"
     ]
    }
   ],
   "source": [
    "import sqlite3\n",
    "\n",
    "conn = sqlite3.connect('GSOC_ORG.sqlite')\n",
    "print(\"Opened database successfully\");\n",
    "\n",
    "conn.execute('''CREATE TABLE ORGS\n",
    "         (\n",
    "         organization   TEXT    NOT NULL,\n",
    "         link            TEXT,\n",
    "         description    TEXT,\n",
    "         technologies   TEXT,\n",
    "         contact    TEXT\n",
    "         );''')\n",
    "print(\"Table created successfully\");\n",
    "for i in range(len(organisations_links)):\n",
    "    conn.execute(\"INSERT INTO ORGS VALUES('\"+org_name[i]+ \"','\"+str(org_links[i])+\"','\"+str(org_descp[i])+\"','\"+str(org_tech[i])+\"','\"+str(org_mail[i])+\"');\")\n",
    "print(\"successfully inserted\")\n",
    "conn.close()"
   ]
  },
  {
   "cell_type": "code",
   "execution_count": null,
   "metadata": {
    "collapsed": true
   },
   "outputs": [],
   "source": []
  },
  {
   "cell_type": "code",
   "execution_count": 1,
   "metadata": {},
   "outputs": [
    {
     "name": "stderr",
     "output_type": "stream",
     "text": [
      " * Running on http://127.0.0.1:5000/ (Press CTRL+C to quit)\n",
      "127.0.0.1 - - [21/Mar/2018 21:38:38] \"GET / HTTP/1.1\" 200 -\n",
      "127.0.0.1 - - [21/Mar/2018 21:38:40] \"GET /favicon.ico HTTP/1.1\" 404 -\n",
      "127.0.0.1 - - [21/Mar/2018 21:39:57] \"GET / HTTP/1.1\" 200 -\n"
     ]
    }
   ],
   "source": [
    "from flask import Flask\n",
    "app = Flask(__name__)\n",
    "\n",
    "@app.route(\"/\")\n",
    "def hello():\n",
    "    return \"Hello World!\"\n",
    "\n",
    "if __name__ == \"__main__\":\n",
    "    app.run()"
   ]
  },
  {
   "cell_type": "code",
   "execution_count": null,
   "metadata": {},
   "outputs": [
    {
     "name": "stderr",
     "output_type": "stream",
     "text": [
      " * Running on http://127.0.0.1:5002/ (Press CTRL+C to quit)\n",
      "127.0.0.1 - - [21/Mar/2018 22:11:41] \"GET / HTTP/1.1\" 404 -\n"
     ]
    }
   ],
   "source": [
    "from flask import Flask, request\n",
    "from flask_restful import Resource, Api\n",
    "from sqlalchemy import create_engine\n",
    "from json import dumps\n",
    "from flask import jsonify\n",
    "\n",
    "db_connect = create_engine('GSOC_ORG.db')\n",
    "app = Flask(__name__)\n",
    "api = Api(app)\n",
    "\n",
    "class Employees(Resource):\n",
    "    def get(self):\n",
    "        conn = db_connect.connect() # connect to database\n",
    "        query = conn.execute(\"select * from ORGS\") # This line performs query and returns json result\n",
    "        return {'employees': [i[0] for i in query.cursor.fetchall()], '',,,,} # Fetches first column that is Employee ID\n",
    "\n",
    "# class Tracks(Resource):\n",
    "#     def get(self):\n",
    "#         conn = db_connect.connect()\n",
    "#         query = conn.execute(\"select trackid, name, composer, unitprice from tracks;\")\n",
    "#         result = {'data': [dict(zip(tuple (query.keys()) ,i)) for i in query.cursor]}\n",
    "#         return jsonify(result)\n",
    "\n",
    "# class Employees_Name(Resource):\n",
    "#     def get(self, employee_id):\n",
    "#         conn = db_connect.connect()\n",
    "#         query = conn.execute(\"select * from employees where EmployeeId =%d \"  %int(employee_id))\n",
    "#         result = {'data': [dict(zip(tuple (query.keys()) ,i)) for i in query.cursor]}\n",
    "#         return jsonify(result)\n",
    "\n",
    "api.add_resource(Organisations, '/organisations') # Route_1\n",
    "# api.add_resource(Tracks, '/tracks') # Route_2\n",
    "# api.add_resource(Employees_Name, '/employees/<employee_id>') # Route_3\n",
    "\n",
    "\n",
    "if __name__ == '__main__':\n",
    "     app.run(port='5002')\n",
    "     "
   ]
  },
  {
   "cell_type": "code",
   "execution_count": null,
   "metadata": {
    "collapsed": true
   },
   "outputs": [],
   "source": []
  },
  {
   "cell_type": "code",
   "execution_count": 1,
   "metadata": {},
   "outputs": [
    {
     "name": "stderr",
     "output_type": "stream",
     "text": [
      " * Running on http://127.0.0.1:5000/ (Press CTRL+C to quit)\n",
      " * Restarting with stat\n"
     ]
    },
    {
     "ename": "SystemExit",
     "evalue": "1",
     "output_type": "error",
     "traceback": [
      "An exception has occurred, use %tb to see the full traceback.\n",
      "\u001b[0;31mSystemExit\u001b[0m\u001b[0;31m:\u001b[0m 1\n"
     ]
    },
    {
     "name": "stderr",
     "output_type": "stream",
     "text": [
      "/Users/shreyashkawalkar/anaconda3/lib/python3.6/site-packages/IPython/core/interactiveshell.py:2870: UserWarning: To exit: use 'exit', 'quit', or Ctrl-D.\n",
      "  warn(\"To exit: use 'exit', 'quit', or Ctrl-D.\", stacklevel=1)\n"
     ]
    }
   ],
   "source": [
    "from flask import Flask, request, jsonify\n",
    "from flask_sqlalchemy import SQLAlchemy\n",
    "from flask_marshmallow import Marshmallow\n",
    "import os\n",
    "import sys\n",
    "\n",
    "app = Flask(__name__)\n",
    "app.config['SQLALCHEMY_DATABASE_URI'] = 'GSOC_ORG.sqlite'\n",
    "app.config['SQLALCHEMY_TRACK_MODIFICATIONS'] = False\n",
    "db = SQLAlchemy(app)\n",
    "ma = Marshmallow(app)\n",
    "\n",
    "\n",
    "class org(db.Model):\n",
    "    id = db.Column(db.Integer, primary_key=True)\n",
    "    organisation = db.Column(db.TEXT, unique=True)\n",
    "    link = db.Column(db.TEXT)\n",
    "    description = db.Column(db.TEXT)\n",
    "    technologies = db.Column(db.TEXT)\n",
    "    contact = db.Column(db.TEXT)\n",
    "    def __init__(self, organisation, link, description, technologies, contact):\n",
    "        self.organisation = organisation\n",
    "        self.link = link\n",
    "        self.description = description\n",
    "        self.technologies = technologies\n",
    "        self.contact = contact\n",
    "        \n",
    "\n",
    "\n",
    "class orgs(ma.Schema):\n",
    "    class Meta:\n",
    "        fields = ('organisation', 'link', 'description', 'technologies', 'contact')\n",
    "\n",
    "orgs_schema = orgs(many=True)\n",
    "\n",
    "\n",
    "@app.route(\"/organisations\", methods=[\"GET\"])\n",
    "def get_orgs():\n",
    "    all_orgs = org.query.all()\n",
    "    result = orgs_schema.dump(all_orgs)\n",
    "    return jsonify(result.data)\n",
    "\n",
    "\n",
    "if __name__ == '__main__':\n",
    "    app.run(debug=True)\n",
    "    sys.exit(0)"
   ]
  }
 ],
 "metadata": {
  "kernelspec": {
   "display_name": "Python 3",
   "language": "python",
   "name": "python3"
  }
 },
 "nbformat": 4,
 "nbformat_minor": 2
}
