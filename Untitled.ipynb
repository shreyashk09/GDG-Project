{
 "cells": [
  {
   "cell_type": "code",
   "execution_count": 1,
   "metadata": {},
   "outputs": [
    {
     "name": "stderr",
     "output_type": "stream",
     "text": [
      " * Running on http://127.0.0.1:5000/ (Press CTRL+C to quit)\n",
      " * Restarting with stat\n"
     ]
    },
    {
     "ename": "SystemExit",
     "evalue": "1",
     "output_type": "error",
     "traceback": [
      "An exception has occurred, use %tb to see the full traceback.\n",
      "\u001b[0;31mSystemExit\u001b[0m\u001b[0;31m:\u001b[0m 1\n"
     ]
    },
    {
     "name": "stderr",
     "output_type": "stream",
     "text": [
      "/Users/shreyashkawalkar/anaconda3/lib/python3.6/site-packages/IPython/core/interactiveshell.py:2870: UserWarning: To exit: use 'exit', 'quit', or Ctrl-D.\n",
      "  warn(\"To exit: use 'exit', 'quit', or Ctrl-D.\", stacklevel=1)\n"
     ]
    }
   ],
   "source": [
    "from flask import Flask, request, jsonify\n",
    "from flask_sqlalchemy import SQLAlchemy\n",
    "from flask_marshmallow import Marshmallow\n",
    "import os\n",
    "\n",
    "app = Flask(__name__)\n",
    "basedir = os.path.abspath(os.path.dirname('/Users/shreyashkawalkar/Developer/Untitled Folder'))\n",
    "app.config['SQLALCHEMY_DATABASE_URI'] = 'sqlite:///' + os.path.join(basedir, 'crud.sqlite')\n",
    "app.config['SQLALCHEMY_TRACK_MODIFICATIONS'] = False\n",
    "db = SQLAlchemy(app)\n",
    "ma = Marshmallow(app)\n",
    "\n",
    "\n",
    "class org(db.Model):\n",
    "    id = db.Column(db.Integer, primary_key=True)\n",
    "    organisation = db.Column(db.TEXT, unique=True)\n",
    "    link = db.Column(db.TEXT)\n",
    "    description = db.Column(db.TEXT)\n",
    "    technologies = db.Column(db.TEXT)\n",
    "    contact = db.Column(db.TEXT)\n",
    "    def __init__(self, organisation, link, description, technologies, contact):\n",
    "        self.organisation = organisation\n",
    "        self.link = link\n",
    "        self.description = description\n",
    "        self.technologies = technologies\n",
    "        self.contact = contact\n",
    "        \n",
    "\n",
    "\n",
    "class orgs(ma.Schema):\n",
    "    class Meta:\n",
    "        fields = ('organisation', 'link', 'description', 'technologies', 'contact')\n",
    "\n",
    "orgs_schema = UserSchema(many=True)\n",
    "\n",
    "\n",
    "@app.route(\"/organisation\", methods=[\"GET\"])\n",
    "def get_orgs():\n",
    "    all_orgs = org.query.all()\n",
    "    result = orgs_schema.dump(all_orgs)\n",
    "    return jsonify(result.data)\n",
    "\n",
    "\n",
    "if __name__ == '__main__':\n",
    "    app.run(debug=True)"
   ]
  },
  {
   "cell_type": "code",
   "execution_count": 1,
   "metadata": {},
   "outputs": [
    {
     "name": "stderr",
     "output_type": "stream",
     "text": [
      " * Running on http://127.0.0.1:5000/ (Press CTRL+C to quit)\n",
      "127.0.0.1 - - [21/Mar/2018 21:38:38] \"GET / HTTP/1.1\" 200 -\n",
      "127.0.0.1 - - [21/Mar/2018 21:38:40] \"GET /favicon.ico HTTP/1.1\" 404 -\n",
      "127.0.0.1 - - [21/Mar/2018 21:39:57] \"GET / HTTP/1.1\" 200 -\n"
     ]
    }
   ],
   "source": [
    "from flask import Flask\n",
    "app = Flask(__name__)\n",
    "\n",
    "@app.route(\"/\")\n",
    "def hello():\n",
    "    return \"Hello World!\"\n",
    "\n",
    "if __name__ == \"__main__\":\n",
    "    app.run()"
   ]
  },
  {
   "cell_type": "code",
   "execution_count": null,
   "metadata": {},
   "outputs": [
    {
     "name": "stderr",
     "output_type": "stream",
     "text": [
      " * Running on http://127.0.0.1:5002/ (Press CTRL+C to quit)\n",
      "127.0.0.1 - - [21/Mar/2018 22:11:41] \"GET / HTTP/1.1\" 404 -\n"
     ]
    }
   ],
   "source": [
    "from flask import Flask, request\n",
    "from flask_restful import Resource, Api\n",
    "from sqlalchemy import create_engine\n",
    "from json import dumps\n",
    "from flask import jsonify\n",
    "\n",
    "db_connect = create_engine('GSOC_ORG.db')\n",
    "app = Flask(__name__)\n",
    "api = Api(app)\n",
    "\n",
    "class Employees(Resource):\n",
    "    def get(self):\n",
    "        conn = db_connect.connect() # connect to database\n",
    "        query = conn.execute(\"select * from ORGS\") # This line performs query and returns json result\n",
    "        return {'employees': [i[0] for i in query.cursor.fetchall()], '',,,,} # Fetches first column that is Employee ID\n",
    "\n",
    "# class Tracks(Resource):\n",
    "#     def get(self):\n",
    "#         conn = db_connect.connect()\n",
    "#         query = conn.execute(\"select trackid, name, composer, unitprice from tracks;\")\n",
    "#         result = {'data': [dict(zip(tuple (query.keys()) ,i)) for i in query.cursor]}\n",
    "#         return jsonify(result)\n",
    "\n",
    "# class Employees_Name(Resource):\n",
    "#     def get(self, employee_id):\n",
    "#         conn = db_connect.connect()\n",
    "#         query = conn.execute(\"select * from employees where EmployeeId =%d \"  %int(employee_id))\n",
    "#         result = {'data': [dict(zip(tuple (query.keys()) ,i)) for i in query.cursor]}\n",
    "#         return jsonify(result)\n",
    "\n",
    "api.add_resource(Organisations, '/organisations') # Route_1\n",
    "# api.add_resource(Tracks, '/tracks') # Route_2\n",
    "# api.add_resource(Employees_Name, '/employees/<employee_id>') # Route_3\n",
    "\n",
    "\n",
    "if __name__ == '__main__':\n",
    "     app.run(port='5002')\n",
    "     "
   ]
  },
  {
   "cell_type": "code",
   "execution_count": 58,
   "metadata": {},
   "outputs": [],
   "source": [
    "import requests\n",
    "import bs4"
   ]
  },
  {
   "cell_type": "code",
   "execution_count": 68,
   "metadata": {
    "collapsed": true
   },
   "outputs": [],
   "source": [
    "base_link = 'https://summerofcode.withgoogle.com'\n",
    "organisations_links = []\n",
    "org_links = []\n",
    "org_tech = []\n",
    "org_name = []\n",
    "org_descp = []\n",
    "org_topics = []\n",
    "org_mail = []"
   ]
  },
  {
   "cell_type": "code",
   "execution_count": 69,
   "metadata": {},
   "outputs": [],
   "source": [
    "res = requests.get('https://summerofcode.withgoogle.com/archive/2017/organizations/')"
   ]
  },
  {
   "cell_type": "code",
   "execution_count": 70,
   "metadata": {
    "collapsed": true
   },
   "outputs": [],
   "source": [
    "soup = bs4.BeautifulSoup(res.content,\"lxml\")"
   ]
  },
  {
   "cell_type": "code",
   "execution_count": 71,
   "metadata": {},
   "outputs": [],
   "source": [
    "links = soup.find_all(\"a\",{'class':\"organization-card__link\"})"
   ]
  },
  {
   "cell_type": "code",
   "execution_count": 72,
   "metadata": {},
   "outputs": [],
   "source": [
    "for link in links:\n",
    "    organisations_links.append(base_link + link.get('href'))"
   ]
  },
  {
   "cell_type": "code",
   "execution_count": 78,
   "metadata": {},
   "outputs": [
    {
     "name": "stdout",
     "output_type": "stream",
     "text": [
      "<generator object <genexpr> at 0x10b74d468>\n",
      "<generator object <genexpr> at 0x10b74d3b8>\n",
      "<generator object <genexpr> at 0x10b8ec888>\n",
      "<generator object <genexpr> at 0x10bef0e60>\n"
     ]
    },
    {
     "ename": "KeyboardInterrupt",
     "evalue": "",
     "output_type": "error",
     "traceback": [
      "\u001b[0;31m---------------------------------------------------------------------------\u001b[0m",
      "\u001b[0;31mKeyboardInterrupt\u001b[0m                         Traceback (most recent call last)",
      "\u001b[0;32m<ipython-input-78-c37f15913b51>\u001b[0m in \u001b[0;36m<module>\u001b[0;34m()\u001b[0m\n\u001b[1;32m      1\u001b[0m \u001b[0;32mfor\u001b[0m \u001b[0morg\u001b[0m \u001b[0;32min\u001b[0m \u001b[0morganisations_links\u001b[0m\u001b[0;34m:\u001b[0m\u001b[0;34m\u001b[0m\u001b[0m\n\u001b[0;32m----> 2\u001b[0;31m     \u001b[0mres1\u001b[0m \u001b[0;34m=\u001b[0m \u001b[0mrequests\u001b[0m\u001b[0;34m.\u001b[0m\u001b[0mget\u001b[0m\u001b[0;34m(\u001b[0m\u001b[0morg\u001b[0m\u001b[0;34m)\u001b[0m\u001b[0;34m\u001b[0m\u001b[0m\n\u001b[0m\u001b[1;32m      3\u001b[0m     \u001b[0msoup1\u001b[0m \u001b[0;34m=\u001b[0m \u001b[0mbs4\u001b[0m\u001b[0;34m.\u001b[0m\u001b[0mBeautifulSoup\u001b[0m\u001b[0;34m(\u001b[0m\u001b[0mres1\u001b[0m\u001b[0;34m.\u001b[0m\u001b[0mcontent\u001b[0m\u001b[0;34m,\u001b[0m\u001b[0;34m\"lxml\"\u001b[0m\u001b[0;34m)\u001b[0m\u001b[0;34m\u001b[0m\u001b[0m\n\u001b[1;32m      4\u001b[0m \u001b[0;31m#     org_links.append(soup1.find_all(\"a\",{'class':\"org__link\"}).get('href'))\u001b[0m\u001b[0;34m\u001b[0m\u001b[0;34m\u001b[0m\u001b[0m\n\u001b[1;32m      5\u001b[0m \u001b[0;31m#     org_tech.append\u001b[0m\u001b[0;34m\u001b[0m\u001b[0;34m\u001b[0m\u001b[0m\n",
      "\u001b[0;32m~/anaconda3/lib/python3.6/site-packages/requests/api.py\u001b[0m in \u001b[0;36mget\u001b[0;34m(url, params, **kwargs)\u001b[0m\n\u001b[1;32m     70\u001b[0m \u001b[0;34m\u001b[0m\u001b[0m\n\u001b[1;32m     71\u001b[0m     \u001b[0mkwargs\u001b[0m\u001b[0;34m.\u001b[0m\u001b[0msetdefault\u001b[0m\u001b[0;34m(\u001b[0m\u001b[0;34m'allow_redirects'\u001b[0m\u001b[0;34m,\u001b[0m \u001b[0;32mTrue\u001b[0m\u001b[0;34m)\u001b[0m\u001b[0;34m\u001b[0m\u001b[0m\n\u001b[0;32m---> 72\u001b[0;31m     \u001b[0;32mreturn\u001b[0m \u001b[0mrequest\u001b[0m\u001b[0;34m(\u001b[0m\u001b[0;34m'get'\u001b[0m\u001b[0;34m,\u001b[0m \u001b[0murl\u001b[0m\u001b[0;34m,\u001b[0m \u001b[0mparams\u001b[0m\u001b[0;34m=\u001b[0m\u001b[0mparams\u001b[0m\u001b[0;34m,\u001b[0m \u001b[0;34m**\u001b[0m\u001b[0mkwargs\u001b[0m\u001b[0;34m)\u001b[0m\u001b[0;34m\u001b[0m\u001b[0m\n\u001b[0m\u001b[1;32m     73\u001b[0m \u001b[0;34m\u001b[0m\u001b[0m\n\u001b[1;32m     74\u001b[0m \u001b[0;34m\u001b[0m\u001b[0m\n",
      "\u001b[0;32m~/anaconda3/lib/python3.6/site-packages/requests/api.py\u001b[0m in \u001b[0;36mrequest\u001b[0;34m(method, url, **kwargs)\u001b[0m\n\u001b[1;32m     56\u001b[0m     \u001b[0;31m# cases, and look like a memory leak in others.\u001b[0m\u001b[0;34m\u001b[0m\u001b[0;34m\u001b[0m\u001b[0m\n\u001b[1;32m     57\u001b[0m     \u001b[0;32mwith\u001b[0m \u001b[0msessions\u001b[0m\u001b[0;34m.\u001b[0m\u001b[0mSession\u001b[0m\u001b[0;34m(\u001b[0m\u001b[0;34m)\u001b[0m \u001b[0;32mas\u001b[0m \u001b[0msession\u001b[0m\u001b[0;34m:\u001b[0m\u001b[0;34m\u001b[0m\u001b[0m\n\u001b[0;32m---> 58\u001b[0;31m         \u001b[0;32mreturn\u001b[0m \u001b[0msession\u001b[0m\u001b[0;34m.\u001b[0m\u001b[0mrequest\u001b[0m\u001b[0;34m(\u001b[0m\u001b[0mmethod\u001b[0m\u001b[0;34m=\u001b[0m\u001b[0mmethod\u001b[0m\u001b[0;34m,\u001b[0m \u001b[0murl\u001b[0m\u001b[0;34m=\u001b[0m\u001b[0murl\u001b[0m\u001b[0;34m,\u001b[0m \u001b[0;34m**\u001b[0m\u001b[0mkwargs\u001b[0m\u001b[0;34m)\u001b[0m\u001b[0;34m\u001b[0m\u001b[0m\n\u001b[0m\u001b[1;32m     59\u001b[0m \u001b[0;34m\u001b[0m\u001b[0m\n\u001b[1;32m     60\u001b[0m \u001b[0;34m\u001b[0m\u001b[0m\n",
      "\u001b[0;32m~/anaconda3/lib/python3.6/site-packages/requests/sessions.py\u001b[0m in \u001b[0;36mrequest\u001b[0;34m(self, method, url, params, data, headers, cookies, files, auth, timeout, allow_redirects, proxies, hooks, stream, verify, cert, json)\u001b[0m\n\u001b[1;32m    506\u001b[0m         }\n\u001b[1;32m    507\u001b[0m         \u001b[0msend_kwargs\u001b[0m\u001b[0;34m.\u001b[0m\u001b[0mupdate\u001b[0m\u001b[0;34m(\u001b[0m\u001b[0msettings\u001b[0m\u001b[0;34m)\u001b[0m\u001b[0;34m\u001b[0m\u001b[0m\n\u001b[0;32m--> 508\u001b[0;31m         \u001b[0mresp\u001b[0m \u001b[0;34m=\u001b[0m \u001b[0mself\u001b[0m\u001b[0;34m.\u001b[0m\u001b[0msend\u001b[0m\u001b[0;34m(\u001b[0m\u001b[0mprep\u001b[0m\u001b[0;34m,\u001b[0m \u001b[0;34m**\u001b[0m\u001b[0msend_kwargs\u001b[0m\u001b[0;34m)\u001b[0m\u001b[0;34m\u001b[0m\u001b[0m\n\u001b[0m\u001b[1;32m    509\u001b[0m \u001b[0;34m\u001b[0m\u001b[0m\n\u001b[1;32m    510\u001b[0m         \u001b[0;32mreturn\u001b[0m \u001b[0mresp\u001b[0m\u001b[0;34m\u001b[0m\u001b[0m\n",
      "\u001b[0;32m~/anaconda3/lib/python3.6/site-packages/requests/sessions.py\u001b[0m in \u001b[0;36msend\u001b[0;34m(self, request, **kwargs)\u001b[0m\n\u001b[1;32m    616\u001b[0m \u001b[0;34m\u001b[0m\u001b[0m\n\u001b[1;32m    617\u001b[0m         \u001b[0;31m# Send the request\u001b[0m\u001b[0;34m\u001b[0m\u001b[0;34m\u001b[0m\u001b[0m\n\u001b[0;32m--> 618\u001b[0;31m         \u001b[0mr\u001b[0m \u001b[0;34m=\u001b[0m \u001b[0madapter\u001b[0m\u001b[0;34m.\u001b[0m\u001b[0msend\u001b[0m\u001b[0;34m(\u001b[0m\u001b[0mrequest\u001b[0m\u001b[0;34m,\u001b[0m \u001b[0;34m**\u001b[0m\u001b[0mkwargs\u001b[0m\u001b[0;34m)\u001b[0m\u001b[0;34m\u001b[0m\u001b[0m\n\u001b[0m\u001b[1;32m    619\u001b[0m \u001b[0;34m\u001b[0m\u001b[0m\n\u001b[1;32m    620\u001b[0m         \u001b[0;31m# Total elapsed time of the request (approximately)\u001b[0m\u001b[0;34m\u001b[0m\u001b[0;34m\u001b[0m\u001b[0m\n",
      "\u001b[0;32m~/anaconda3/lib/python3.6/site-packages/requests/adapters.py\u001b[0m in \u001b[0;36msend\u001b[0;34m(self, request, stream, timeout, verify, cert, proxies)\u001b[0m\n\u001b[1;32m    438\u001b[0m                     \u001b[0mdecode_content\u001b[0m\u001b[0;34m=\u001b[0m\u001b[0;32mFalse\u001b[0m\u001b[0;34m,\u001b[0m\u001b[0;34m\u001b[0m\u001b[0m\n\u001b[1;32m    439\u001b[0m                     \u001b[0mretries\u001b[0m\u001b[0;34m=\u001b[0m\u001b[0mself\u001b[0m\u001b[0;34m.\u001b[0m\u001b[0mmax_retries\u001b[0m\u001b[0;34m,\u001b[0m\u001b[0;34m\u001b[0m\u001b[0m\n\u001b[0;32m--> 440\u001b[0;31m                     \u001b[0mtimeout\u001b[0m\u001b[0;34m=\u001b[0m\u001b[0mtimeout\u001b[0m\u001b[0;34m\u001b[0m\u001b[0m\n\u001b[0m\u001b[1;32m    441\u001b[0m                 )\n\u001b[1;32m    442\u001b[0m \u001b[0;34m\u001b[0m\u001b[0m\n",
      "\u001b[0;32m~/anaconda3/lib/python3.6/site-packages/urllib3/connectionpool.py\u001b[0m in \u001b[0;36murlopen\u001b[0;34m(self, method, url, body, headers, retries, redirect, assert_same_host, timeout, pool_timeout, release_conn, chunked, body_pos, **response_kw)\u001b[0m\n\u001b[1;32m    599\u001b[0m                                                   \u001b[0mtimeout\u001b[0m\u001b[0;34m=\u001b[0m\u001b[0mtimeout_obj\u001b[0m\u001b[0;34m,\u001b[0m\u001b[0;34m\u001b[0m\u001b[0m\n\u001b[1;32m    600\u001b[0m                                                   \u001b[0mbody\u001b[0m\u001b[0;34m=\u001b[0m\u001b[0mbody\u001b[0m\u001b[0;34m,\u001b[0m \u001b[0mheaders\u001b[0m\u001b[0;34m=\u001b[0m\u001b[0mheaders\u001b[0m\u001b[0;34m,\u001b[0m\u001b[0;34m\u001b[0m\u001b[0m\n\u001b[0;32m--> 601\u001b[0;31m                                                   chunked=chunked)\n\u001b[0m\u001b[1;32m    602\u001b[0m \u001b[0;34m\u001b[0m\u001b[0m\n\u001b[1;32m    603\u001b[0m             \u001b[0;31m# If we're going to release the connection in ``finally:``, then\u001b[0m\u001b[0;34m\u001b[0m\u001b[0;34m\u001b[0m\u001b[0m\n",
      "\u001b[0;32m~/anaconda3/lib/python3.6/site-packages/urllib3/connectionpool.py\u001b[0m in \u001b[0;36m_make_request\u001b[0;34m(self, conn, method, url, timeout, chunked, **httplib_request_kw)\u001b[0m\n\u001b[1;32m    344\u001b[0m         \u001b[0;31m# Trigger any extra validation we need to do.\u001b[0m\u001b[0;34m\u001b[0m\u001b[0;34m\u001b[0m\u001b[0m\n\u001b[1;32m    345\u001b[0m         \u001b[0;32mtry\u001b[0m\u001b[0;34m:\u001b[0m\u001b[0;34m\u001b[0m\u001b[0m\n\u001b[0;32m--> 346\u001b[0;31m             \u001b[0mself\u001b[0m\u001b[0;34m.\u001b[0m\u001b[0m_validate_conn\u001b[0m\u001b[0;34m(\u001b[0m\u001b[0mconn\u001b[0m\u001b[0;34m)\u001b[0m\u001b[0;34m\u001b[0m\u001b[0m\n\u001b[0m\u001b[1;32m    347\u001b[0m         \u001b[0;32mexcept\u001b[0m \u001b[0;34m(\u001b[0m\u001b[0mSocketTimeout\u001b[0m\u001b[0;34m,\u001b[0m \u001b[0mBaseSSLError\u001b[0m\u001b[0;34m)\u001b[0m \u001b[0;32mas\u001b[0m \u001b[0me\u001b[0m\u001b[0;34m:\u001b[0m\u001b[0;34m\u001b[0m\u001b[0m\n\u001b[1;32m    348\u001b[0m             \u001b[0;31m# Py2 raises this as a BaseSSLError, Py3 raises it as socket timeout.\u001b[0m\u001b[0;34m\u001b[0m\u001b[0;34m\u001b[0m\u001b[0m\n",
      "\u001b[0;32m~/anaconda3/lib/python3.6/site-packages/urllib3/connectionpool.py\u001b[0m in \u001b[0;36m_validate_conn\u001b[0;34m(self, conn)\u001b[0m\n\u001b[1;32m    848\u001b[0m         \u001b[0;31m# Force connect early to allow us to validate the connection.\u001b[0m\u001b[0;34m\u001b[0m\u001b[0;34m\u001b[0m\u001b[0m\n\u001b[1;32m    849\u001b[0m         \u001b[0;32mif\u001b[0m \u001b[0;32mnot\u001b[0m \u001b[0mgetattr\u001b[0m\u001b[0;34m(\u001b[0m\u001b[0mconn\u001b[0m\u001b[0;34m,\u001b[0m \u001b[0;34m'sock'\u001b[0m\u001b[0;34m,\u001b[0m \u001b[0;32mNone\u001b[0m\u001b[0;34m)\u001b[0m\u001b[0;34m:\u001b[0m  \u001b[0;31m# AppEngine might not have  `.sock`\u001b[0m\u001b[0;34m\u001b[0m\u001b[0m\n\u001b[0;32m--> 850\u001b[0;31m             \u001b[0mconn\u001b[0m\u001b[0;34m.\u001b[0m\u001b[0mconnect\u001b[0m\u001b[0;34m(\u001b[0m\u001b[0;34m)\u001b[0m\u001b[0;34m\u001b[0m\u001b[0m\n\u001b[0m\u001b[1;32m    851\u001b[0m \u001b[0;34m\u001b[0m\u001b[0m\n\u001b[1;32m    852\u001b[0m         \u001b[0;32mif\u001b[0m \u001b[0;32mnot\u001b[0m \u001b[0mconn\u001b[0m\u001b[0;34m.\u001b[0m\u001b[0mis_verified\u001b[0m\u001b[0;34m:\u001b[0m\u001b[0;34m\u001b[0m\u001b[0m\n",
      "\u001b[0;32m~/anaconda3/lib/python3.6/site-packages/urllib3/connection.py\u001b[0m in \u001b[0;36mconnect\u001b[0;34m(self)\u001b[0m\n\u001b[1;32m    324\u001b[0m             \u001b[0mca_cert_dir\u001b[0m\u001b[0;34m=\u001b[0m\u001b[0mself\u001b[0m\u001b[0;34m.\u001b[0m\u001b[0mca_cert_dir\u001b[0m\u001b[0;34m,\u001b[0m\u001b[0;34m\u001b[0m\u001b[0m\n\u001b[1;32m    325\u001b[0m             \u001b[0mserver_hostname\u001b[0m\u001b[0;34m=\u001b[0m\u001b[0mhostname\u001b[0m\u001b[0;34m,\u001b[0m\u001b[0;34m\u001b[0m\u001b[0m\n\u001b[0;32m--> 326\u001b[0;31m             ssl_context=context)\n\u001b[0m\u001b[1;32m    327\u001b[0m \u001b[0;34m\u001b[0m\u001b[0m\n\u001b[1;32m    328\u001b[0m         \u001b[0;32mif\u001b[0m \u001b[0mself\u001b[0m\u001b[0;34m.\u001b[0m\u001b[0massert_fingerprint\u001b[0m\u001b[0;34m:\u001b[0m\u001b[0;34m\u001b[0m\u001b[0m\n",
      "\u001b[0;32m~/anaconda3/lib/python3.6/site-packages/urllib3/util/ssl_.py\u001b[0m in \u001b[0;36mssl_wrap_socket\u001b[0;34m(sock, keyfile, certfile, cert_reqs, ca_certs, server_hostname, ssl_version, ciphers, ssl_context, ca_cert_dir)\u001b[0m\n\u001b[1;32m    327\u001b[0m         \u001b[0mcontext\u001b[0m\u001b[0;34m.\u001b[0m\u001b[0mload_cert_chain\u001b[0m\u001b[0;34m(\u001b[0m\u001b[0mcertfile\u001b[0m\u001b[0;34m,\u001b[0m \u001b[0mkeyfile\u001b[0m\u001b[0;34m)\u001b[0m\u001b[0;34m\u001b[0m\u001b[0m\n\u001b[1;32m    328\u001b[0m     \u001b[0;32mif\u001b[0m \u001b[0mHAS_SNI\u001b[0m\u001b[0;34m:\u001b[0m  \u001b[0;31m# Platform-specific: OpenSSL with enabled SNI\u001b[0m\u001b[0;34m\u001b[0m\u001b[0m\n\u001b[0;32m--> 329\u001b[0;31m         \u001b[0;32mreturn\u001b[0m \u001b[0mcontext\u001b[0m\u001b[0;34m.\u001b[0m\u001b[0mwrap_socket\u001b[0m\u001b[0;34m(\u001b[0m\u001b[0msock\u001b[0m\u001b[0;34m,\u001b[0m \u001b[0mserver_hostname\u001b[0m\u001b[0;34m=\u001b[0m\u001b[0mserver_hostname\u001b[0m\u001b[0;34m)\u001b[0m\u001b[0;34m\u001b[0m\u001b[0m\n\u001b[0m\u001b[1;32m    330\u001b[0m \u001b[0;34m\u001b[0m\u001b[0m\n\u001b[1;32m    331\u001b[0m     warnings.warn(\n",
      "\u001b[0;32m~/anaconda3/lib/python3.6/site-packages/urllib3/contrib/pyopenssl.py\u001b[0m in \u001b[0;36mwrap_socket\u001b[0;34m(self, sock, server_side, do_handshake_on_connect, suppress_ragged_eofs, server_hostname)\u001b[0m\n\u001b[1;32m    439\u001b[0m         \u001b[0;32mwhile\u001b[0m \u001b[0;32mTrue\u001b[0m\u001b[0;34m:\u001b[0m\u001b[0;34m\u001b[0m\u001b[0m\n\u001b[1;32m    440\u001b[0m             \u001b[0;32mtry\u001b[0m\u001b[0;34m:\u001b[0m\u001b[0;34m\u001b[0m\u001b[0m\n\u001b[0;32m--> 441\u001b[0;31m                 \u001b[0mcnx\u001b[0m\u001b[0;34m.\u001b[0m\u001b[0mdo_handshake\u001b[0m\u001b[0;34m(\u001b[0m\u001b[0;34m)\u001b[0m\u001b[0;34m\u001b[0m\u001b[0m\n\u001b[0m\u001b[1;32m    442\u001b[0m             \u001b[0;32mexcept\u001b[0m \u001b[0mOpenSSL\u001b[0m\u001b[0;34m.\u001b[0m\u001b[0mSSL\u001b[0m\u001b[0;34m.\u001b[0m\u001b[0mWantReadError\u001b[0m\u001b[0;34m:\u001b[0m\u001b[0;34m\u001b[0m\u001b[0m\n\u001b[1;32m    443\u001b[0m                 \u001b[0mrd\u001b[0m \u001b[0;34m=\u001b[0m \u001b[0mutil\u001b[0m\u001b[0;34m.\u001b[0m\u001b[0mwait_for_read\u001b[0m\u001b[0;34m(\u001b[0m\u001b[0msock\u001b[0m\u001b[0;34m,\u001b[0m \u001b[0msock\u001b[0m\u001b[0;34m.\u001b[0m\u001b[0mgettimeout\u001b[0m\u001b[0;34m(\u001b[0m\u001b[0;34m)\u001b[0m\u001b[0;34m)\u001b[0m\u001b[0;34m\u001b[0m\u001b[0m\n",
      "\u001b[0;32m~/anaconda3/lib/python3.6/site-packages/OpenSSL/SSL.py\u001b[0m in \u001b[0;36mdo_handshake\u001b[0;34m(self)\u001b[0m\n\u001b[1;32m   1803\u001b[0m         \u001b[0;34m:\u001b[0m\u001b[0;32mreturn\u001b[0m\u001b[0;34m:\u001b[0m \u001b[0;32mNone\u001b[0m\u001b[0;34m.\u001b[0m\u001b[0;34m\u001b[0m\u001b[0m\n\u001b[1;32m   1804\u001b[0m         \"\"\"\n\u001b[0;32m-> 1805\u001b[0;31m         \u001b[0mresult\u001b[0m \u001b[0;34m=\u001b[0m \u001b[0m_lib\u001b[0m\u001b[0;34m.\u001b[0m\u001b[0mSSL_do_handshake\u001b[0m\u001b[0;34m(\u001b[0m\u001b[0mself\u001b[0m\u001b[0;34m.\u001b[0m\u001b[0m_ssl\u001b[0m\u001b[0;34m)\u001b[0m\u001b[0;34m\u001b[0m\u001b[0m\n\u001b[0m\u001b[1;32m   1806\u001b[0m         \u001b[0mself\u001b[0m\u001b[0;34m.\u001b[0m\u001b[0m_raise_ssl_error\u001b[0m\u001b[0;34m(\u001b[0m\u001b[0mself\u001b[0m\u001b[0;34m.\u001b[0m\u001b[0m_ssl\u001b[0m\u001b[0;34m,\u001b[0m \u001b[0mresult\u001b[0m\u001b[0;34m)\u001b[0m\u001b[0;34m\u001b[0m\u001b[0m\n\u001b[1;32m   1807\u001b[0m \u001b[0;34m\u001b[0m\u001b[0m\n",
      "\u001b[0;31mKeyboardInterrupt\u001b[0m: "
     ]
    }
   ],
   "source": [
    "for org in organisations_links:\n",
    "    res1 = requests.get(org)\n",
    "    soup1 = bs4.BeautifulSoup(res1.content,\"lxml\")\n",
    "#     org_links.append(soup1.find_all(\"a\",{'class':\"org__link\"}).get('href'))\n",
    "#     org_tech.append\n",
    "    print(tech.string for tech in soup1.find_all(\"li\" ,{'class':'organization__tag organization__tag--technology'}))"
   ]
  },
  {
   "cell_type": "code",
   "execution_count": null,
   "metadata": {
    "collapsed": true
   },
   "outputs": [],
   "source": []
  },
  {
   "cell_type": "code",
   "execution_count": null,
   "metadata": {
    "collapsed": true
   },
   "outputs": [],
   "source": []
  },
  {
   "cell_type": "code",
   "execution_count": null,
   "metadata": {
    "collapsed": true
   },
   "outputs": [],
   "source": []
  },
  {
   "cell_type": "code",
   "execution_count": null,
   "metadata": {
    "collapsed": true
   },
   "outputs": [],
   "source": []
  },
  {
   "cell_type": "code",
   "execution_count": null,
   "metadata": {
    "collapsed": true
   },
   "outputs": [],
   "source": []
  },
  {
   "cell_type": "code",
   "execution_count": null,
   "metadata": {
    "collapsed": true
   },
   "outputs": [],
   "source": []
  },
  {
   "cell_type": "code",
   "execution_count": 31,
   "metadata": {
    "collapsed": true
   },
   "outputs": [
    {
     "data": {
      "text/plain": [
       "[<script data-bootstrap=\"/api/program/current/\" data-resource=\"program\" type=\"application/json\">\n",
       " \t\t{\"features\":{\"student_finals_can_be_submitted\":false,\"org_payment_details_can_be_changed\":true,\"admins_can_register\":true,\"mentor_first_evals_can_be_submitted\":false,\"students_can_edit_project\":true,\"tax_forms_can_be_uploaded\":false,\"accepted_projects_published\":false,\"student_first_evals_can_be_submitted\":false,\"second_enrollment_forms_can_be_submitted\":false,\"enrollments_can_be_reviewed\":true,\"mentor_second_evals_can_be_submitted\":false,\"slots_can_be_assigned\":false,\"second_eval_emails_can_be_sent\":false,\"orgs_can_be_edited\":true,\"mentor_finals_can_be_submitted\":false,\"slot_allocation_emails_can_be_sent\":false,\"projects_can_be_accepted\":false,\"enrollments_can_undergo_second_review\":false,\"orgs_can_be_accepted\":false,\"students_can_register\":true,\"second_enrollments_can_be_reviewed\":false,\"second_enrollment_forms_can_be_re_submitted\":false,\"org_members_can_edit_proposal\":true,\"evaluations_in_progress\":false,\"proposal_can_be_deleted\":true,\"accepted_orgs_published\":true,\"results_published\":false,\"send_assignee_emails\":false,\"org_members_can_view_final_proposals\":false,\"orgs_can_register\":false,\"student_second_evals_can_be_submitted\":false,\"enrollment_forms_can_be_submitted\":true,\"project_decisions_emails_can_be_sent\":false,\"orgs_can_see_enrollment_status\":false,\"proposal_in_progress\":true,\"orgs_have_been_accepted\":true,\"mentors_can_register\":true,\"final_evaluations_emails_can_be_sent\":false,\"slots_can_be_requested\":false,\"org_accept_reject_emails_can_be_sent\":false,\"org_payment_details_visible\":false,\"students_can_submit_proposals\":true,\"student_withdrawals_trigger_email\":false,\"students_can_edit_personal_details\":true,\"enrollment_forms_can_be_re_submitted\":true,\"tax_forms_can_be_reviewed\":false,\"first_eval_emails_can_be_sent\":false,\"second_review_status_visible\":false,\"project_decisions_can_be_finalized\":false,\"student_home_address_is_editable\":true},\"copy\":{\"number_of_lines_of_code\":\"33,000,000+\",\"homepage_start_button\":\"Get Started\",\"number_of_students\":\"13,000+\",\"homepage_intro_paragraph\":\"Google Summer of Code is a global program focused on bringing more student developers into open source software development. Students work with an open source organization on a 3 month programming project during their break from school.\",\"number_of_mentors\":\"12,000\",\"number_of_student_and_mentor_countries\":\"125\",\"number_of_years\":\"13\",\"homepage_orgs_paragraph\":\"<p>212 organizations were accepted to participate in Google Summer of Code 2018! They'll be bringing new, excited developers into their community and the world of open source!</p>\\n<p>Watch this video to learn why your organization should participate:</p>\\n\",\"homepage_students_paragraph\":\"<p>Spend your summer break writing code and learning about open source development while earning a stipend! Accepted students work with a mentor and become a part of the open source community. Many become lifetime open source developers!</p>\\n<p>Google Summer of Code is open to university students, age 18 and older in most countries. Watch this video to learn why you should apply:</p>\\n\",\"number_of_organizations\":\"608\",\"number_of_student_countries\":\"108\"},\"year\":2018,\"state\":\"student_signup_open\",\"is_current\":true,\"org_signup_open\":false,\"org_approval\":false,\"orgs_published\":false,\"student_signup_open\":true,\"slot_request\":false,\"slot_allocation_grace_period\":false,\"project_acceptance\":false,\"project_decisions_finalization\":false,\"first_work_period\":false,\"first_evaluations\":false,\"second_work_period\":false,\"second_evaluations\":false,\"third_work_period\":false,\"final_week\":false,\"final_evaluations_mentor\":false,\"post_program\":false,\"org_signup_open_starts\":\"2018-01-04T17:00:00Z\",\"org_signup_open_ends\":\"2018-01-23T16:59:59Z\",\"org_approval_starts\":\"2018-01-23T17:00:00Z\",\"org_approval_ends\":\"2018-02-12T16:59:59Z\",\"orgs_published_starts\":\"2018-02-12T17:00:00Z\",\"orgs_published_ends\":\"2018-03-12T15:59:59Z\",\"student_signup_open_starts\":\"2018-03-12T16:00:00Z\",\"student_signup_open_ends\":\"2018-03-27T15:59:00Z\",\"slot_request_starts\":\"2018-03-27T16:00:00Z\",\"slot_request_ends\":\"2018-04-09T15:59:59Z\",\"slot_allocation_grace_period_starts\":\"2018-04-09T16:00:00Z\",\"slot_allocation_grace_period_ends\":\"2018-04-10T15:59:00Z\",\"project_acceptance_starts\":\"2018-04-10T16:00:00Z\",\"project_acceptance_ends\":\"2018-04-17T15:59:59Z\",\"project_decisions_finalization_starts\":\"2018-04-17T16:00:00Z\",\"project_decisions_finalization_ends\":\"2018-04-23T15:59:59Z\",\"first_work_period_starts\":\"2018-04-23T16:00:00Z\",\"first_work_period_ends\":\"2018-06-11T15:59:59Z\",\"first_evaluations_starts\":\"2018-06-11T16:00:00Z\",\"first_evaluations_ends\":\"2018-06-15T15:59:59Z\",\"second_work_period_starts\":\"2018-06-15T16:00:00Z\",\"second_work_period_ends\":\"2018-07-09T15:59:59Z\",\"second_evaluations_starts\":\"2018-07-09T16:00:00Z\",\"second_evaluations_ends\":\"2018-07-13T15:59:59Z\",\"third_work_period_starts\":\"2018-07-13T16:00:00Z\",\"third_work_period_ends\":\"2018-08-06T15:59:59Z\",\"final_week_starts\":\"2018-08-06T16:00:00Z\",\"final_week_ends\":\"2018-08-14T15:59:59Z\",\"final_evaluations_mentor_starts\":\"2018-08-14T16:00:00Z\",\"final_evaluations_mentor_ends\":\"2018-08-21T15:59:59Z\",\"post_program_starts\":\"2018-08-21T16:00:00Z\",\"post_program_ends\":null,\"community_bonding_period_starts\":\"2018-04-23T16:00:00Z\",\"community_bonding_period_ends\":\"2018-05-14T15:59:59Z\",\"coding_period_starts\":\"2018-05-14T16:00:00Z\",\"coding_period_ends\":\"2018-08-06T15:59:59Z\",\"results_announced\":\"2018-08-22T16:00:00Z\",\"tax_forms_deadline\":null,\"first_payments\":\"2018-06-20T16:00:00Z\",\"second_payments\":\"2018-07-18T16:00:00Z\",\"final_payments\":\"2018-08-27T16:00:00Z\",\"first_evaluations_finalized\":null,\"second_evaluations_finalized\":null,\"final_evaluations_finalized\":null,\"site_config\":{\"restricted_shipping_countries\":[\"Brazil\",\"Burma\",\"Belarus\",\"Chile\",\"Mexico\",\"Peru\",\"Russian Federation\",\"Colombia\",\"Kazakhstan\",\"Argentina\",\"Ukraine\"]},\"slot_allocation_finalized\":null,\"second_enrollment_form_upload_deadline\":null}\n",
       " \t</script>,\n",
       " <script data-bootstrap=\"/api/constants\" data-resource=\"\" type=\"application/json\">\n",
       " \t\t{\"ProgramState\": [\"org_signup_open\", \"org_approval\", \"orgs_published\", \"student_signup_open\", \"slot_request\", \"slot_allocation_grace_period\", \"project_acceptance\", \"project_decisions_finalization\", \"first_work_period\", \"first_evaluations\", \"second_work_period\", \"second_evaluations\", \"third_work_period\", \"final_week\", \"final_evaluations_mentor\", \"post_program\"], \"HomeLink\": \"https://summerofcode.withgoogle.com\", \"Countries\": [[\"Afghanistan\", \"Afghanistan\"], [\"Albania\", \"Albania\"], [\"Algeria\", \"Algeria\"], [\"American Samoa\", \"American Samoa\"], [\"Andorra, Principality of\", \"Andorra, Principality of\"], [\"Angola\", \"Angola\"], [\"Anguilla\", \"Anguilla\"], [\"Antigua and Barbuda\", \"Antigua and Barbuda\"], [\"Argentina\", \"Argentina\"], [\"Armenia\", \"Armenia\"], [\"Aruba\", \"Aruba\"], [\"Australia\", \"Australia\"], [\"Austria\", \"Austria\"], [\"Azerbaijan\", \"Azerbaijan\"], [\"Bahamas\", \"Bahamas\"], [\"Bahrain\", \"Bahrain\"], [\"Bangladesh\", \"Bangladesh\"], [\"Barbados\", \"Barbados\"], [\"Belarus\", \"Belarus\"], [\"Belgium\", \"Belgium\"], [\"Belize\", \"Belize\"], [\"Benin\", \"Benin\"], [\"Bermuda\", \"Bermuda\"], [\"Bhutan\", \"Bhutan\"], [\"Bolivia\", \"Bolivia\"], [\"Bosnia and Herzegovina\", \"Bosnia and Herzegovina\"], [\"Botswana\", \"Botswana\"], [\"Bouvet Island\", \"Bouvet Island\"], [\"Brazil\", \"Brazil\"], [\"British Indian Ocean Territory\", \"British Indian Ocean Territory\"], [\"Brunei Darussalam\", \"Brunei Darussalam\"], [\"Bulgaria\", \"Bulgaria\"], [\"Burkina Faso\", \"Burkina Faso\"], [\"Burma\", \"Burma\"], [\"Burundi\", \"Burundi\"], [\"Cambodia\", \"Cambodia\"], [\"Cameroon\", \"Cameroon\"], [\"Canada\", \"Canada\"], [\"Cape Verde\", \"Cape Verde\"], [\"Cayman Islands\", \"Cayman Islands\"], [\"Central African Republic\", \"Central African Republic\"], [\"Chad\", \"Chad\"], [\"Chile\", \"Chile\"], [\"China\", \"China\"], [\"Christmas Island\", \"Christmas Island\"], [\"Cocos (Keeling) Islands\", \"Cocos (Keeling) Islands\"], [\"Colombia\", \"Colombia\"], [\"Comoros\", \"Comoros\"], [\"Congo\", \"Congo\"], [\"Congo, Democratic Republic of the\", \"Congo, Democratic Republic of the\"], [\"Cook Islands\", \"Cook Islands\"], [\"Costa Rica\", \"Costa Rica\"], [\"Croatia\", \"Croatia\"], [\"Cyprus\", \"Cyprus\"], [\"Czech Republic\", \"Czech Republic\"], [\"Denmark\", \"Denmark\"], [\"Djibouti\", \"Djibouti\"], [\"Dominica\", \"Dominica\"], [\"Dominican Republic\", \"Dominican Republic\"], [\"East Timor\", \"East Timor\"], [\"Ecuador\", \"Ecuador\"], [\"Egypt\", \"Egypt\"], [\"El Salvador\", \"El Salvador\"], [\"Equatorial Guinea\", \"Equatorial Guinea\"], [\"Eritrea\", \"Eritrea\"], [\"Estonia\", \"Estonia\"], [\"Ethiopia\", \"Ethiopia\"], [\"Falkland Islands\", \"Falkland Islands\"], [\"Faroe Islands\", \"Faroe Islands\"], [\"Fiji\", \"Fiji\"], [\"Finland\", \"Finland\"], [\"France\", \"France\"], [\"French Guyana\", \"French Guyana\"], [\"French Polynesia\", \"French Polynesia\"], [\"French Southern Territories\", \"French Southern Territories\"], [\"Gabon\", \"Gabon\"], [\"Gambia\", \"Gambia\"], [\"Georgia\", \"Georgia\"], [\"Germany\", \"Germany\"], [\"Ghana\", \"Ghana\"], [\"Gibraltar\", \"Gibraltar\"], [\"Greece\", \"Greece\"], [\"Greenland\", \"Greenland\"], [\"Grenada\", \"Grenada\"], [\"Guadeloupe (French)\", \"Guadeloupe (French)\"], [\"Guam (USA)\", \"Guam (USA)\"], [\"Guatemala\", \"Guatemala\"], [\"Guinea\", \"Guinea\"], [\"Guinea Bissau\", \"Guinea Bissau\"], [\"Guyana\", \"Guyana\"], [\"Haiti\", \"Haiti\"], [\"Heard and McDonald Islands\", \"Heard and McDonald Islands\"], [\"Holy See (Vatican City State)\", \"Holy See (Vatican City State)\"], [\"Honduras\", \"Honduras\"], [\"Hong Kong\", \"Hong Kong\"], [\"Hungary\", \"Hungary\"], [\"Iceland\", \"Iceland\"], [\"India\", \"India\"], [\"Indonesia\", \"Indonesia\"], [\"Iraq\", \"Iraq\"], [\"Ireland\", \"Ireland\"], [\"Israel\", \"Israel\"], [\"Italy\", \"Italy\"], [\"Ivory Coast (Cote D'Ivoire)\", \"Ivory Coast (Cote D'Ivoire)\"], [\"Jamaica\", \"Jamaica\"], [\"Japan\", \"Japan\"], [\"Jordan\", \"Jordan\"], [\"Kazakhstan\", \"Kazakhstan\"], [\"Kenya\", \"Kenya\"], [\"Kiribati\", \"Kiribati\"], [\"Kosovo\", \"Kosovo\"], [\"Kuwait\", \"Kuwait\"], [\"Kyrgyzstan\", \"Kyrgyzstan\"], [\"Laos\", \"Laos\"], [\"Latvia\", \"Latvia\"], [\"Lebanon\", \"Lebanon\"], [\"Lesotho\", \"Lesotho\"], [\"Liberia\", \"Liberia\"], [\"Libya\", \"Libya\"], [\"Liechtenstein\", \"Liechtenstein\"], [\"Lithuania\", \"Lithuania\"], [\"Luxembourg\", \"Luxembourg\"], [\"Macau\", \"Macau\"], [\"Macedonia\", \"Macedonia\"], [\"Madagascar\", \"Madagascar\"], [\"Malawi\", \"Malawi\"], [\"Malaysia\", \"Malaysia\"], [\"Maldives\", \"Maldives\"], [\"Mali\", \"Mali\"], [\"Malta\", \"Malta\"], [\"Marshall Islands\", \"Marshall Islands\"], [\"Martinique (French)\", \"Martinique (French)\"], [\"Mauritania\", \"Mauritania\"], [\"Mauritius\", \"Mauritius\"], [\"Mayotte\", \"Mayotte\"], [\"Mexico\", \"Mexico\"], [\"Micronesia\", \"Micronesia\"], [\"Moldova\", \"Moldova\"], [\"Monaco\", \"Monaco\"], [\"Mongolia\", \"Mongolia\"], [\"Montenegro\", \"Montenegro\"], [\"Montserrat\", \"Montserrat\"], [\"Morocco\", \"Morocco\"], [\"Mozambique\", \"Mozambique\"], [\"Namibia\", \"Namibia\"], [\"Nauru\", \"Nauru\"], [\"Nepal\", \"Nepal\"], [\"Netherlands\", \"Netherlands\"], [\"Netherlands Antilles\", \"Netherlands Antilles\"], [\"New Caledonia (French)\", \"New Caledonia (French)\"], [\"New Zealand\", \"New Zealand\"], [\"Nicaragua\", \"Nicaragua\"], [\"Niger\", \"Niger\"], [\"Nigeria\", \"Nigeria\"], [\"Niue\", \"Niue\"], [\"Northern Mariana Islands\", \"Northern Mariana Islands\"], [\"Norway\", \"Norway\"], [\"Oman\", \"Oman\"], [\"Pakistan\", \"Pakistan\"], [\"Palau\", \"Palau\"], [\"Palestinian Territories\", \"Palestinian Territories\"], [\"Panama\", \"Panama\"], [\"Papua New Guinea\", \"Papua New Guinea\"], [\"Paraguay\", \"Paraguay\"], [\"Peru\", \"Peru\"], [\"Philippines\", \"Philippines\"], [\"Pitcairn Island\", \"Pitcairn Island\"], [\"Poland\", \"Poland\"], [\"Portugal\", \"Portugal\"], [\"Puerto Rico\", \"Puerto Rico\"], [\"Qatar\", \"Qatar\"], [\"Reunion (French)\", \"Reunion (French)\"], [\"Romania\", \"Romania\"], [\"Russian Federation\", \"Russian Federation\"], [\"Rwanda\", \"Rwanda\"], [\"Saint Helena\", \"Saint Helena\"], [\"Saint Kitts \\u0026 Nevis Anguilla\", \"Saint Kitts \\u0026 Nevis Anguilla\"], [\"Saint Lucia\", \"Saint Lucia\"], [\"Saint Pierre and Miquelon\", \"Saint Pierre and Miquelon\"], [\"Saint Tome (Sao Tome) and Principe\", \"Saint Tome (Sao Tome) and Principe\"], [\"Saint Vincent \\u0026 Grenadines\", \"Saint Vincent \\u0026 Grenadines\"], [\"Samoa\", \"Samoa\"], [\"San Marino\", \"San Marino\"], [\"Saudi Arabia\", \"Saudi Arabia\"], [\"Senegal\", \"Senegal\"], [\"Serbia\", \"Serbia\"], [\"Seychelles\", \"Seychelles\"], [\"Sierra Leone\", \"Sierra Leone\"], [\"Singapore\", \"Singapore\"], [\"Slovak Republic\", \"Slovak Republic\"], [\"Slovenia\", \"Slovenia\"], [\"Solomon Islands\", \"Solomon Islands\"], [\"Somalia\", \"Somalia\"], [\"South Africa\", \"South Africa\"], [\"South Georgia \\u0026 South Sandwich Islands\", \"South Georgia \\u0026 South Sandwich Islands\"], [\"South Korea\", \"South Korea\"], [\"South Sudan\", \"South Sudan\"], [\"Spain\", \"Spain\"], [\"Sri Lanka\", \"Sri Lanka\"], [\"Suriname\", \"Suriname\"], [\"Svalbard and Jan Mayen Islands\", \"Svalbard and Jan Mayen Islands\"], [\"Swaziland\", \"Swaziland\"], [\"Sweden\", \"Sweden\"], [\"Switzerland\", \"Switzerland\"], [\"Taiwan\", \"Taiwan\"], [\"Tajikistan\", \"Tajikistan\"], [\"Tanzania\", \"Tanzania\"], [\"Thailand\", \"Thailand\"], [\"Togo\", \"Togo\"], [\"Tokelau\", \"Tokelau\"], [\"Tonga\", \"Tonga\"], [\"Trinidad and Tobago\", \"Trinidad and Tobago\"], [\"Tunisia\", \"Tunisia\"], [\"Turkey\", \"Turkey\"], [\"Turkmenistan\", \"Turkmenistan\"], [\"Turks and Caicos Islands\", \"Turks and Caicos Islands\"], [\"Tuvalu\", \"Tuvalu\"], [\"USA Minor Outlying Islands\", \"USA Minor Outlying Islands\"], [\"Uganda\", \"Uganda\"], [\"Ukraine\", \"Ukraine\"], [\"United Arab Emirates\", \"United Arab Emirates\"], [\"United Kingdom\", \"United Kingdom\"], [\"United States\", \"United States\"], [\"Uruguay\", \"Uruguay\"], [\"Uzbekistan\", \"Uzbekistan\"], [\"Vanuatu\", \"Vanuatu\"], [\"Venezuela\", \"Venezuela\"], [\"Vietnam\", \"Vietnam\"], [\"Virgin Islands (British)\", \"Virgin Islands (British)\"], [\"Virgin Islands (USA)\", \"Virgin Islands (USA)\"], [\"Wallis and Futuna Islands\", \"Wallis and Futuna Islands\"], [\"Western Sahara\", \"Western Sahara\"], [\"Yemen\", \"Yemen\"], [\"Zambia\", \"Zambia\"], [\"Zimbabwe\", \"Zimbabwe\"]], \"MembershipStatus\": {\"ACTIVE\": 2, \"DISABLED\": 3, \"PENDING\": 1}, \"MembershipRoles\": {\"1\": \"Admin\", \"2\": \"Mentor\"}, \"OrgCategory\": {\"Graphics / Video / Audio / Virtual Reality\": \"graphics\", \"Web\": \"web\", \"Social / Communications\": \"social_communications\", \"Programming Languages and Development Tools\": \"languages\", \"Science and Medicine\": \"science_and_medicine\", \"Other\": \"other\", \"Operating Systems\": \"operating_systems\", \"Data and Databases\": \"data_and_databases\", \"Security\": \"security\", \"End User Applications\": \"end_user_applications\", \"Cloud\": \"cloud\"}, \"RecipientGroup\": {\"org_admins_registered\": {\"description\": \"All registered organization admins\", \"name\": \"Org Admins - Registered\", \"show\": \"!org_approval_finalized\"}, \"org_admins_accepted\": {\"description\": \"All accepted organization admins\", \"name\": \"Org Admins - Accepted\", \"show\": \"org_approval_finalized\"}, \"org_admins_registered_complete\": {\"description\": \"All registered organization admins on complete organizations\", \"name\": \"Org Admins - Registered Complete\", \"show\": \"!org_approval_finalized\"}, \"org_admins_registered_incomplete\": {\"description\": \"All registered organization admins on incomplete organizations\", \"name\": \"Org Admins - Registered Incomplete\", \"show\": \"!org_approval_finalized\"}, \"mentors_and_org_admins_accepted\": {\"description\": \"All accepted organization mentors and admins\", \"name\": \"Mentors and Org Admins - Accepted\", \"show\": \"org_approval_finalized\"}, \"members_assigned_to_active_project\": {\"showFrom\": \"project_decisions_finalization\", \"name\": \"All Mentors/OAs with an Active Project\", \"description\": \"All mentors and org admins assigned to at least one active project\"}, \"members_assigned_to_active_project_and_oas\": {\"showFrom\": \"project_decisions_finalization\", \"name\": \"All Mentors with an Active Project + All OAs\", \"description\": \"All mentors assigned to at least one active project along with all OAs regardless of whether they are assigned to projects or not\"}, \"students_registered\": {\"showFrom\": \"student_signup_open\", \"name\": \"Students - Registered\", \"description\": \"All registered students\"}, \"students_accepted\": {\"showFrom\": \"student_signup_open\", \"name\": \"Students - Accepted (and not Failed)\", \"description\": \"All accepted students\"}, \"students_complete_proposal_accepted_enrollment\": {\"showFrom\": \"student_signup_open\", \"name\": \"Students - (With Final PDF and Accepted POE)\", \"description\": \"Students with at least one completed proposal who have an accepted 1st POE\"}, \"students_complete_proposal_rejected_enrollment\": {\"showFrom\": \"student_signup_open\", \"name\": \"Students - (With Final PDF and Rejected POE)\", \"description\": \"Students with at least one completed proposal who have a rejected 1st POE\"}, \"everyone_accepted\": {\"showFrom\": \"student_signup_open\", \"name\": \"Everyone (Students, Mentors, Org Admins) - Accepted (and not Failed)\", \"description\": \"All active students and members of accepted organizations\"}, \"students_with_incomplete_first_evals\": {\"showFrom\": \"first_evaluations\", \"name\": \"Students with Pending First Evaluation\", \"description\": \"All students with active projects who have outstanding first evaluations\"}, \"mentors_with_incomplete_first_evals\": {\"showFrom\": \"first_evaluations\", \"name\": \"Mentors/OA with Pending First Evaluation\", \"description\": \"All mentors assigned to active projects who have outstanding first evaluations and active org admins of organizations with pending mentor first evaluations\"}, \"students_with_incomplete_second_evals\": {\"showFrom\": \"second_evaluations\", \"name\": \"Students with Pending Second Evaluation\", \"description\": \"All students with active projects who have outstanding second evaluations\"}, \"mentors_with_incomplete_second_evals\": {\"showFrom\": \"second_evaluations\", \"name\": \"Mentors/OA with Pending Second Evaluation\", \"description\": \"All mentors assigned to active projects who have outstanding second evaluations and active org admins of organizations with pending mentor second evaluations\"}, \"students_with_incomplete_finals\": {\"showFrom\": \"final_week\", \"name\": \"Students with Pending Final Evaluation\", \"description\": \"All students with active projects who have outstanding final evaluations\"}, \"mentors_with_incomplete_finals\": {\"showFrom\": \"final_week\", \"name\": \"Mentors/OA with Pending Final Evaluation\", \"description\": \"All mentors assigned to active projects who have outstanding final evaluations and active org admins of organizations with pending mentor final evaluations\"}, \"students_with_pdf_missing_enrollment\": {\"showFrom\": \"student_signup_open\", \"name\": \"Students - Proposal with PDF no enrollment\", \"description\": \"Students who have uploaded a PDF to at least 1 proposal but are missing an enrollment form\"}, \"students_with_proposal_no_pdf\": {\"showFrom\": \"student_signup_open\", \"name\": \"Students - Proposal without PDF\", \"description\": \"Students with a proposal but have not uploaded a PDF\"}}, \"OrganizationStatus\": {\"CANCELLED\": 4, \"ACCEPTED\": 2, \"REJECTED\": 3, \"PENDING\": 1}, \"TaxFormStatus\": {\"Deferred\": 5, \"Pending\": 2, \"Approved\": 3, \"Rejected\": 4, \"Missing\": 1}, \"TaxFormType\": {\"Foreign Cert\": 3, \"w8-ben\": 2, \"w9\": 1}, \"ProjectKinds\": {\"Final Evaluation submitted by student\": 9, \"Comment\": 1, \"Enrollment Form Accepted\": 3, \"Enrollment Form Uploaded\": 2, \"Project Final PDF Uploaded\": 6, \"First Evaluation submitted by mentor\": 8, \"Second Evaluation submitted by mentor\": 12, \"Final Evaluation submitted by mentor\": 10, \"Project Draft Shared\": 5, \"Enrollment Form Rejected\": 4, \"First Evaluation submitted by student\": 7, \"Second Evaluation submitted by student\": 11}, \"EnrollmentFormStatus\": {\"Deferred\": 5, \"Pending\": 2, \"Approved\": 3, \"Rejected\": 4, \"Missing\": 1}, \"SecondEnrollmentFormStatus\": {\"Deferred\": 6, \"First round rejection\": 2, \"Pending\": 3, \"Missing\": 1, \"ReUploaded\": 7, \"Rejected\": 5, \"Approved\": 4}, \"StudentSocDiscovery\": {\"1\": \"Friend or classmate\", \"2\": \"Family member\", \"3\": \"Teacher or Professor\", \"4\": \"Google Open Source blog\", \"5\": \"Conference, meetup, or other event\", \"6\": \"Social Media (G+, Twitter, Facebook, etc.)\", \"7\": \"An open source project\", \"8\": \"Online search\", \"99\": \"Other\"}, \"StudentSocDiscoveryExtra\": {\"5\": \"Conference\", \"6\": \"Social\", \"7\": \"Project\"}, \"StudentMajor\": {\"99\": \"Other\", \"1\": \"Computer Science / Software Engineering\", \"2\": \"Physics\", \"3\": \"Mathematics\"}, \"StudentDegreePursuing\": {\"1\": \"Undergraduate\", \"2\": \"Masters\", \"3\": \"PhD\"}, \"StudentParticipationYear\": {\"3\": \"Yes, three times\", \"1\": \"Yes, one time\", \"2\": \"Yes, two times\", \"99\": \"No\"}, \"FirstCommunication\": {\"1\": \"Before February 12, 2018\", \"2\": \"Between February 12, 2018 and March 12, 2018\", \"3\": \"Between March 12, 2018 and April 23, 2018\", \"4\": \"After April 23, 2018\", \"5\": \"Not sure\"}, \"CommunicationFrequency\": {\"1\": \"Daily\", \"2\": \"Twice a week\", \"3\": \"Once a week\", \"4\": \"Twice a month\", \"5\": \"Once a month\"}, \"CommunicationMethod\": {\"1\": \"1:1 Instant Messaging\", \"2\": \"IRC or other Group Chat\", \"3\": \"Video Chat\", \"4\": \"Voice Chat\", \"5\": \"Private Emails\", \"6\": \"Mailing Lists\", \"7\": \"Blog Posts\", \"8\": \"In person\", \"99\": \"Other\"}, \"Attitude\": {\"1\": \"Yes\", \"2\": \"No\", \"3\": \"Not sure\"}, \"StatusUpdateFrequency\": {\"1\": \"Daily\", \"2\": \"Every few days\", \"3\": \"Weekly\", \"4\": \"Only when explicitly requested\", \"5\": \"Never\"}, \"StudentProgress\": {\"1\": \"The student has already completed the project\", \"2\": \"The student is ahead of schedule\", \"3\": \"The student is on schedule\", \"4\": \"The student is behind schedule\", \"5\": \"Not sure\"}, \"FailureReason\": {\"99\": \"Other\", \"1\": \"Student was uncommunicative\", \"3\": \"Student disappeared\", \"4\": \"Student missed milestones\", \"5\": \"Student's work was of poor quality\"}, \"EvaluationStatus\": {\"1\": \"Incomplete\", \"2\": \"Complete\"}, \"Closeness\": {\"1\": \"Missed almost all goals\", \"2\": \"Missed many goals\", \"3\": \"Met almost all goals\", \"4\": \"Met all goals\", \"5\": \"Met and exceeded all goals\"}, \"Continuation\": {\"1\": \"Yes\", \"2\": \"No\", \"3\": \"Not sure\", \"4\": \"Probably not this organization but maybe another\"}, \"YesNo\": {\"1\": \"Yes\", \"2\": \"No\"}, \"CodeinParticipation\": {\"3\": \"Yes, as a student and a mentor\", \"1\": \"Yes, as a student\", \"2\": \"Yes, as a mentor\", \"99\": \"No\"}, \"QualityRating\": {\"1\": \"Very bad\", \"2\": \"Bad\", \"3\": \"Okay\", \"4\": \"Good\", \"5\": \"Excellent\"}, \"FinalFailureReason\": {\"1\": \"Was uncommunicative\", \"3\": \"Disappeared\", \"4\": \"Did not stick to their timeline or project plan\", \"5\": \"Work was of poor quality\", \"6\": \"Did not complete their project\", \"7\": \"Did not accept help and feedback\", \"99\": \"Other\"}, \"Merge\": {\"1\": \"Yes\", \"2\": \"Not Yet: Will probably be merged in the next month\", \"3\": \"Not Yet: Will probably be merged in the next 3 months\", \"4\": \"I'm not sure\", \"5\": \"No: Not going to be merged\"}, \"Agreement\": {\"1\": \"Strongly disagree\", \"2\": \"Disagree\", \"3\": \"Neither agree nor disagree\", \"4\": \"Agree\", \"5\": \"Strongly agree\"}, \"BorderlinePass\": {\"1\": \"Yes, there is no question that they should be passed\", \"2\": \"Not really, I have some reservations about passing the student\"}, \"EnrollmentFormType\": {\"1\": \"School ID\", \"2\": \"Letter\", \"3\": \"Transcript\", \"4\": \"Other\"}}\n",
       " \t</script>,\n",
       " <script src=\"/static/js/13847c342d90226a4e8bba8caeee93d494c89b08.libs.js\"></script>,\n",
       " <script src=\"/static/js/00eba4bf1e9a4a705190b246bda43f29a3f59500.app.js\"></script>]"
      ]
     },
     "execution_count": 31,
     "metadata": {},
     "output_type": "execute_result"
    }
   ],
   "source": [
    "soup.find_all(\"script\")"
   ]
  },
  {
   "cell_type": "code",
   "execution_count": 36,
   "metadata": {
    "collapsed": true
   },
   "outputs": [
    {
     "data": {
      "text/plain": [
       "'<!DOCTYPE html>\\n<html ga-analytics-id=\"UA-53341410-6\" ga-analytics-send-pageview=\"\" lang=\"en\" ng-app=\"app\" ng-controller=\"AppController as appCtrl\" ng-csp=\"\">\\n <head>\\n  <title>\\n   RoboComp - 2017 - Google Summer of Code Archive\\n  </title>\\n  <meta content=\"zyiCfocOWgOl49GWIo6fZq6DuQ8o-0eXvz1MQP1o5a0\" name=\"google-site-verification\"/>\\n  <meta content=\"RoboComp - A simple robotics framework.\" name=\"description\"/>\\n  <meta content=\"RoboComp - 2017 - Google Summer of Code Archive\" property=\"og:title\"/>\\n  <meta content=\"RoboComp - A simple robotics framework.\" property=\"og:description\"/>\\n  <meta content=\"website\" property=\"og:type\"/>\\n  <meta content=\"https://summerofcode.withgoogle.com\" property=\"og:url\"/>\\n  <meta content=\"https://summerofcode.withgoogle.com/static/img/og-image.png\" property=\"og:image\"/>\\n  <link href=\"https://fonts.googleapis.com/icon?family=Material+Icons\" rel=\"stylesheet\" type=\"text/css\"/>\\n  <link href=\"https://fonts.googleapis.com/css?family=Product+Sans:400|Roboto:700,500,400,300,100\" rel=\"stylesheet\"/>\\n  <link href=\"/static/archive/css/a2f107e73fbb6da578194fc9ef1b6505d9df7b9b.soc-archive.css\" rel=\"stylesheet\"/>\\n  <meta content=\"width=device-width, initial-scale=1\" name=\"viewport\"/>\\n  <meta content=\"#9a1aaf\" name=\"msapplication-TileColor\"/>\\n  <meta content=\"/static/favicon/mstile-144x144.png\" name=\"msapplication-TileImage\"/>\\n  <meta content=\"/static/favicon/browserconfig.xml\" name=\"msapplication-config\"/>\\n  <link href=\"/static/favicon/manifest.json\" rel=\"manifest\"/>\\n  <link href=\"/static/favicon/apple-touch-icon-57x57.png\" rel=\"apple-touch-icon-precomposed\" sizes=\"57x57\"/>\\n  <link href=\"/static/favicon/apple-touch-icon-60x60.png\" rel=\"apple-touch-icon-precomposed\" sizes=\"60x60\"/>\\n  <link href=\"/static/favicon/apple-touch-icon-72x72.png\" rel=\"apple-touch-icon-precomposed\" sizes=\"72x72\"/>\\n  <link href=\"/static/favicon/apple-touch-icon-76x76.png\" rel=\"apple-touch-icon-precomposed\" sizes=\"76x76\"/>\\n  <link href=\"/static/favicon/apple-touch-icon-114x114.png\" rel=\"apple-touch-icon-precomposed\" sizes=\"114x114\"/>\\n  <link href=\"/static/favicon/apple-touch-icon-120x120.png\" rel=\"apple-touch-icon-precomposed\" sizes=\"120x120\"/>\\n  <link href=\"/static/favicon/apple-touch-icon-144x144.png\" rel=\"apple-touch-icon-precomposed\" sizes=\"144x144\"/>\\n  <link href=\"/static/favicon/apple-touch-icon-152x152.png\" rel=\"apple-touch-icon-precomposed\" sizes=\"152x152\"/>\\n  <link color=\"#9a1aaf\" href=\"/static/favicon/safari-pinned-tab.svg\" rel=\"mask-icon\"/>\\n  <link href=\"/static/favicon/favicon-16x16.png\" rel=\"icon\" sizes=\"16x16\" type=\"image/png\"/>\\n  <link href=\"/static/favicon/favicon-32x32.png\" rel=\"icon\" sizes=\"32x32\" type=\"image/png\"/>\\n  <link href=\"/static/favicon/favicon-96x96.png\" rel=\"icon\" sizes=\"96x96\" type=\"image/png\"/>\\n  <base href=\"/\"/>\\n </head>\\n <body class=\" page-organizations-detail\" md-theme=\"soc\" ng-cloak=\"\">\\n  <header class=\"app-header\">\\n   <md-toolbar class=\"app-header__main md-menu-toolbar\" layout=\"\" layout-align=\"start center\">\\n    <div class=\"fixed-outer-width\" layout=\"\" layout-align=\"space-between center\">\\n     <a class=\"brand header-column\" href=\"/archive/\" layout=\"\" layout-align=\"center center\">\\n      <img alt=\"Google Summer of Code Archive\" class=\"brand__logo\" src=\"/static/archive/img/soc-archive-logo.svg\"/>\\n      <div layout=\"column\">\\n       <h1 class=\"brand__title\">\\n        <span class=\"brand__google-title\">\\n         Google\\n        </span>\\n        Summer of Code\\n       </h1>\\n       <div class=\"brand__subtitle\">\\n        Archive\\n       </div>\\n      </div>\\n     </a>\\n     <div class=\"header-column\" flex=\"\" layout=\"row\" layout-align=\"end center\">\\n      <form action=\"/archive/search/\" class=\"search-form\" hide-xs=\"\" layout=\"\" layout-align=\"end center\" method=\"GET\" role=\"search\">\\n       <md-input-container md-no-float=\"\">\\n        <input name=\"q\" placeholder=\"Search for projects, organizations, or usernames\" type=\"text\" value=\"\" value-from-query-param=\"q\"/>\\n       </md-input-container>\\n       <md-button type=\"submit\">\\n        <i class=\"material-icons\">\\n         search\\n        </i>\\n       </md-button>\\n      </form>\\n      <div class=\"header-menu--small\" hide-gt-xs=\"\">\\n       <md-button class=\"header-menu__hamburger\" ng-click=\"appCtrl.toggleSideMenu()\">\\n        <i class=\"material-icons\">\\n         menu\\n        </i>\\n       </md-button>\\n      </div>\\n     </div>\\n    </div>\\n   </md-toolbar>\\n   <md-toolbar class=\"app-header__secondary md-menu-toolbar\" hide-sm=\"\" hide-xs=\"\">\\n    <div class=\"fixed-outer-width\">\\n     <nav class=\"md-toolbar-tools\">\\n      <h2>\\n       2017\\n      </h2>\\n      <ul class=\"no-style-list\" layout=\"\">\\n       <li>\\n        <a class=\"active\" href=\"/archive/2017/organizations/\">\\n         Organizations\\n        </a>\\n       </li>\\n       <li>\\n        <a class=\"\" href=\"/archive/2017/projects/\">\\n         Projects\\n        </a>\\n       </li>\\n      </ul>\\n     </nav>\\n    </div>\\n   </md-toolbar>\\n   <div class=\"app-header__progress\" ng-show=\"$root.loading\">\\n    <md-progress-linear md-mode=\"indeterminate\">\\n    </md-progress-linear>\\n   </div>\\n  </header>\\n  <div class=\"app-banner\" layout=\"\" layout-align=\"start center\">\\n   <div class=\"banner__wrapper\">\\n    <div class=\"banner__text fixed-width\">\\n     <h3 class=\"banner__title\">\\n      RoboComp\\n     </h3>\\n     <p class=\"page-organizations__org-url\">\\n      <a class=\"org__link\" href=\"http://robocomp.org\" target=\"_blank\">\\n       http://robocomp.org\\n      </a>\\n     </p>\\n    </div>\\n   </div>\\n  </div>\\n  <main autoscroll=\"false\" class=\"app-body \">\\n   <div class=\"sticky-header sticky-header--organization\" from-scroll-pos=\"250\" height=\"85\" sticky-header=\"\">\\n    <div class=\"fixed-outer-width\">\\n     <h2 class=\"md-display-1\">\\n      RoboComp\\n     </h2>\\n    </div>\\n   </div>\\n   <section class=\"page-organizations-detail__details\">\\n    <div class=\"fixed-width\">\\n     <div layout=\"column\" layout-gt-xs=\"row\">\\n      <div class=\"org__long-description-wrapper\" flex-gt-sm=\"65\" flex-order-xs=\"1\" flex-sm=\"50\" layout-padding=\"\">\\n       <h4 class=\"md-title org__tagline\">\\n        A simple robotics framework.\\n       </h4>\\n       <div class=\"org__long-description\">\\n        <p>\\n         RoboComp is an open-source Robotics framework providing the tools to create and modify software components that communicate through public interfaces. Components may require, subscribe, implement or publish interfaces in a seamless way. Building new components is done using two domain specific languages, IDSL and CDSL. With IDSL you define an interface and with CDSL you specify how the component will communicate with the world. With this information, a code generator creates C++ and/or Python sources, based on CMake, that compile and execute flawlessly. When some of these features have to be changed, the component can be easily regenerated and all the user specific code is preserved thanks to a simple inheritance mechanism.\\n        </p>\\n       </div>\\n      </div>\\n      <div flex-gt-sm=\"35\" flex-order-xs=\"0\" flex-sm=\"50\" layout-padding=\"\">\\n       <md-card class=\"org__info-card\">\\n        <org-logo data=\"{ \\'image_url\\': \\'//lh3.googleusercontent.com/TLSFajTMYU9aSS2hWuYGRN5BksO7-T-daan9xC0WK6lQpSEb7w6XfvlomYmhg9FvXhgoMq2aqenLQ75-yT-nAo1Sk5thWjY\\', \\'image_bg_color\\': \\'None\\' }\" role=\"presentation\">\\n        </org-logo>\\n        <div class=\"org__meta\">\\n         <div class=\"text-align-center\">\\n          <a class=\"md-button md-primary\" href=\"/archive/2017/organizations/5477575937753088/#projects\" target=\"_self\">\\n           View projects\\n          </a>\\n         </div>\\n         <md-divider class=\"org__meta-divider\">\\n         </md-divider>\\n         <div class=\"org__button-container layout-align-center-center layout-column\">\\n          <md-button href=\"http://robocomp.github.io/website/2017/02/07/gsoc17ideas/\" target=\"_blank\">\\n           <i class=\"material-icons\">\\n            lightbulb_outline\\n           </i>\\n           View ideas list\\n          </md-button>\\n         </div>\\n         <div>\\n          <md-divider class=\"org__meta-divider\">\\n          </md-divider>\\n          <h4 class=\"org__meta-heading\">\\n           Technologies\\n          </h4>\\n          <ul class=\"org__tag-container\" layout=\"\" layout-wrap=\"\">\\n           <li class=\"organization__tag organization__tag--technology\">\\n            c++\\n           </li>\\n           <li class=\"organization__tag organization__tag--technology\">\\n            cmake\\n           </li>\\n           <li class=\"organization__tag organization__tag--technology\">\\n            python\\n           </li>\\n           <li class=\"organization__tag organization__tag--technology\">\\n            openscenegraph\\n           </li>\\n           <li class=\"organization__tag organization__tag--technology\">\\n            qt\\n           </li>\\n          </ul>\\n         </div>\\n         <md-divider class=\"org__meta-divider\">\\n         </md-divider>\\n         <h4 class=\"org__meta-heading\">\\n          Topics\\n         </h4>\\n         <ul class=\"org__tag-container\" layout=\"\" layout-wrap=\"\">\\n          <li class=\"organization__tag organization__tag--category\">\\n           <a href=\"/archive/2017/organizations/?category=other\">\\n            Other\\n           </a>\\n          </li>\\n          <li class=\"organization__tag organization__tag--topic\">\\n           computer vision\\n          </li>\\n          <li class=\"organization__tag organization__tag--topic\">\\n           robotics\\n          </li>\\n          <li class=\"organization__tag organization__tag--topic\">\\n           robotics simulation\\n          </li>\\n         </ul>\\n         <div>\\n          <md-divider class=\"org__meta-divider\">\\n          </md-divider>\\n          <md-button class=\"md-primary org__meta-button\" href=\"https://gitter.im/robocomp/home\" target=\"_blank\">\\n           <i class=\"material-icons\">\\n            comment\\n           </i>\\n           IRC Channel\\n          </md-button>\\n         </div>\\n         <div>\\n          <md-divider class=\"org__meta-divider\">\\n          </md-divider>\\n          <md-button class=\"md-primary org__meta-button\" href=\"https://groups.google.com/forum/?hl=es#!forum/robocomp-dev\" target=\"_blank\">\\n           <i class=\"material-icons\">\\n            email\\n           </i>\\n           Mailing list\\n          </md-button>\\n         </div>\\n         <div>\\n          <md-divider class=\"org__meta-divider\">\\n          </md-divider>\\n          <md-button class=\"md-primary org__meta-button\" href=\"mailto:marcog@unex.es\" target=\"_blank\">\\n           <i class=\"material-icons\">\\n            mail_outline\\n           </i>\\n           Contact email\\n          </md-button>\\n         </div>\\n         <div>\\n          <md-divider class=\"org__meta-divider\">\\n          </md-divider>\\n          <ul class=\"org__social-icons\" layout=\"row\" layout-align=\"center start\">\\n           <li>\\n            <a aria-label=\"Blogger site\" class=\"md-button\" href=\"http://robocomp.github.io/website/Blog/\" target=\"_blank\">\\n             <md-icon md-svg-icon=\"/static/img/blogger-icon.svg\">\\n             </md-icon>\\n            </a>\\n           </li>\\n          </ul>\\n         </div>\\n        </div>\\n       </md-card>\\n      </div>\\n     </div>\\n    </div>\\n   </section>\\n   <section id=\"projects\">\\n    <div class=\"fixed-width\">\\n     <h4 class=\"md-display-1 projects-heading\">\\n      RoboComp 2017 Projects\\n     </h4>\\n     <ul class=\"project-list-container no-style-list\" layout=\"\" layout-wrap=\"\">\\n      <li aria-label=\"Domain Specific Language for programming the Learnbot educational robot\" flex=\"50\" flex-xs=\"100\" layout=\"\">\\n       <a class=\"archive-project-card__link\" flex=\"\" href=\"/archive/2017/projects/5324479815221248/\" layout=\"\">\\n        <md-card class=\"archive-project-card\" flex=\"\">\\n         <div class=\"md-padding archive-project-card__header archive-project-card__header--mod-0\">\\n          <h5 class=\"archive-project-card__student-name\">\\n           Iván\\n          </h5>\\n          <div>\\n           Domain Specific Language for programming the Learnbot educational robot\\n          </div>\\n         </div>\\n         <div class=\"archive-project-card__content md-padding font-black-54\" flex=\"\">\\n          The Learnbot is a small robot which is used to teach to the children the world of robotics. This robot is designed to run simple programs. These...\\n         </div>\\n        </md-card>\\n       </a>\\n      </li>\\n      <li aria-label=\"Domain Specific Language for programming the Learnbot educational robot\" flex=\"50\" flex-xs=\"100\" layout=\"\">\\n       <a class=\"archive-project-card__link\" flex=\"\" href=\"/archive/2017/projects/5233140759003136/\" layout=\"\">\\n        <md-card class=\"archive-project-card\" flex=\"\">\\n         <div class=\"md-padding archive-project-card__header archive-project-card__header--mod-1\">\\n          <h5 class=\"archive-project-card__student-name\">\\n           Aniq Ur Rahman\\n          </h5>\\n          <div>\\n           Domain Specific Language for programming the Learnbot educational robot\\n          </div>\\n         </div>\\n         <div class=\"archive-project-card__content md-padding font-black-54\" flex=\"\">\\n          Project aims at designing a custom language for getting rid of the burden of textual programming and to provide abstraction and hide the underlying...\\n         </div>\\n        </md-card>\\n       </a>\\n      </li>\\n      <li aria-label=\"Graphic Deployment Tool\" flex=\"50\" flex-xs=\"100\" layout=\"\">\\n       <a class=\"archive-project-card__link\" flex=\"\" href=\"/archive/2017/projects/5404869523406848/\" layout=\"\">\\n        <md-card class=\"archive-project-card\" flex=\"\">\\n         <div class=\"md-padding archive-project-card__header archive-project-card__header--mod-2\">\\n          <h5 class=\"archive-project-card__student-name\">\\n           Mayank_Kumar\\n          </h5>\\n          <div>\\n           Graphic Deployment Tool\\n          </div>\\n         </div>\\n         <div class=\"archive-project-card__content md-padding font-black-54\" flex=\"\">\\n          The highlyUnstable branch of robocomp has an advanced rcmanager, which aids for creation of the xml files in a simple and illustrative way, through a...\\n         </div>\\n        </md-card>\\n       </a>\\n      </li>\\n      <li aria-label=\"Introducing robust code generation techniques in Robocomp\" flex=\"50\" flex-xs=\"100\" layout=\"\">\\n       <a class=\"archive-project-card__link\" flex=\"\" href=\"/archive/2017/projects/5577900602425344/\" layout=\"\">\\n        <md-card class=\"archive-project-card\" flex=\"\">\\n         <div class=\"md-padding archive-project-card__header archive-project-card__header--mod-3\">\\n          <h5 class=\"archive-project-card__student-name\">\\n           Nikhil Abraham\\n          </h5>\\n          <div>\\n           Introducing robust code generation techniques in Robocomp\\n          </div>\\n         </div>\\n         <div class=\"archive-project-card__content md-padding font-black-54\" flex=\"\">\\n          RoboComp is an open-source Robotics framework providing the tools to create and modify software components that communicate through public...\\n         </div>\\n        </md-card>\\n       </a>\\n      </li>\\n      <li aria-label=\"Javascript Support\" flex=\"50\" flex-xs=\"100\" layout=\"\">\\n       <a class=\"archive-project-card__link\" flex=\"\" href=\"/archive/2017/projects/5971490868559872/\" layout=\"\">\\n        <md-card class=\"archive-project-card\" flex=\"\">\\n         <div class=\"md-padding archive-project-card__header archive-project-card__header--mod-0\">\\n          <h5 class=\"archive-project-card__student-name\">\\n           Love Mehta\\n          </h5>\\n          <div>\\n           Javascript Support\\n          </div>\\n         </div>\\n         <div class=\"archive-project-card__content md-padding font-black-54\" flex=\"\">\\n          This project aims to extend the current  DSL based component code generator to also generate RoboComp components that  can be run in the browser. The...\\n         </div>\\n        </md-card>\\n       </a>\\n      </li>\\n      <li aria-label=\"Learning useful Actions for efficient planning\" flex=\"50\" flex-xs=\"100\" layout=\"\">\\n       <a class=\"archive-project-card__link\" flex=\"\" href=\"/archive/2017/projects/6257780235173888/\" layout=\"\">\\n        <md-card class=\"archive-project-card\" flex=\"\">\\n         <div class=\"md-padding archive-project-card__header archive-project-card__header--mod-1\">\\n          <h5 class=\"archive-project-card__student-name\">\\n           Lashit Jain\\n          </h5>\\n          <div>\\n           Learning useful Actions for efficient planning\\n          </div>\\n         </div>\\n         <div class=\"archive-project-card__content md-padding font-black-54\" flex=\"\">\\n          Automated Planning involves taking actions to reach the goal. The problem is that most of the practical situations have lots of actions involved, and...\\n         </div>\\n        </md-card>\\n       </a>\\n      </li>\\n      <li aria-label=\"Redesign of Learnbot to improve its features and functionalities\" flex=\"50\" flex-xs=\"100\" layout=\"\">\\n       <a class=\"archive-project-card__link\" flex=\"\" href=\"/archive/2017/projects/4841577180561408/\" layout=\"\">\\n        <md-card class=\"archive-project-card\" flex=\"\">\\n         <div class=\"md-padding archive-project-card__header archive-project-card__header--mod-2\">\\n          <h5 class=\"archive-project-card__student-name\">\\n           brickbit\\n          </h5>\\n          <div>\\n           Redesign of Learnbot to improve its features and functionalities\\n          </div>\\n         </div>\\n         <div class=\"archive-project-card__content md-padding font-black-54\" flex=\"\">\\n          One proposal to redesign Learnbot to solve current problems and make the robot more attractive and expressive\\n         </div>\\n        </md-card>\\n       </a>\\n      </li>\\n      <li aria-label=\"Social Navigation with RoboComp\" flex=\"50\" flex-xs=\"100\" layout=\"\">\\n       <a class=\"archive-project-card__link\" flex=\"\" href=\"/archive/2017/projects/4821890795307008/\" layout=\"\">\\n        <md-card class=\"archive-project-card\" flex=\"\">\\n         <div class=\"md-padding archive-project-card__header archive-project-card__header--mod-3\">\\n          <h5 class=\"archive-project-card__student-name\">\\n           Yohan M R\\n          </h5>\\n          <div>\\n           Social Navigation with RoboComp\\n          </div>\\n         </div>\\n         <div class=\"archive-project-card__content md-padding font-black-54\" flex=\"\">\\n          The aim of this project is to integrate social behaviors into the RoboComp navigation agent. Mobile robots that encounter people on a regular basis...\\n         </div>\\n        </md-card>\\n       </a>\\n      </li>\\n      <li aria-label=\"Social navigation with Robocomp\\u200b\" flex=\"50\" flex-xs=\"100\" layout=\"\">\\n       <a class=\"archive-project-card__link\" flex=\"\" href=\"/archive/2017/projects/5351511802511360/\" layout=\"\">\\n        <md-card class=\"archive-project-card\" flex=\"\">\\n         <div class=\"md-padding archive-project-card__header archive-project-card__header--mod-0\">\\n          <h5 class=\"archive-project-card__student-name\">\\n           Araceli Vega Magro\\n          </h5>\\n          <div>\\n           Social navigation with Robocomp\\u200b\\n          </div>\\n         </div>\\n         <div class=\"archive-project-card__content md-padding font-black-54\" flex=\"\">\\n          The project idea I would like to contribute to robocomp platform as a part of Google Summer of Code is a new component - or set of new RoboComp...\\n         </div>\\n        </md-card>\\n       </a>\\n      </li>\\n     </ul>\\n    </div>\\n   </section>\\n  </main>\\n  <footer class=\"app-footer\">\\n   <div class=\"footer-wrapper wrapper-top\" layout=\"column\">\\n    <div class=\"back-top-row fixed-outer-width\" layout=\"row\" layout-align=\"end center\">\\n     <md-button class=\"back-to-top md-primary md-light md-normal-text\" ng-click=\"appCtrl.scrollToTop()\">\\n      Back to the top\\n      <i class=\"material-icons\">\\n       keyboard_arrow_up\\n      </i>\\n     </md-button>\\n    </div>\\n    <div class=\"links-row fixed-width\" layout=\"column\" layout-align=\"start start\" layout-gt-sm=\"row\">\\n     <div class=\"links-container\" layout-padding=\"\">\\n      <div class=\"md-title\">\\n       Learn\\n      </div>\\n      <ul class=\"no-style-list\" layout=\"column\">\\n       <li>\\n        <a aria-label=\"About Summer of Code\" href=\"https://developers.google.com/open-source/gsoc/\" target=\"_blank\">\\n         About\\n        </a>\\n       </li>\\n       <li>\\n        <a href=\"https://developers.google.com/open-source/gsoc/faq\" target=\"_blank\">\\n         FAQs\\n        </a>\\n       </li>\\n       <li>\\n        <a href=\"https://developers.google.com/open-source/gsoc/resources/\" target=\"_blank\">\\n         Resources\\n        </a>\\n       </li>\\n      </ul>\\n     </div>\\n     <div class=\"links-container\" layout-padding=\"\">\\n      <div class=\"md-title\">\\n       Archive\\n      </div>\\n      <ul class=\"no-style-list\" layout=\"column\">\\n       <li>\\n        <a aria-label=\"2017 program\" href=\"/archive/2017/\">\\n         2017\\n        </a>\\n       </li>\\n       <li>\\n        <a aria-label=\"2016 program\" href=\"/archive/2016/\">\\n         2016\\n        </a>\\n       </li>\\n       <li>\\n        <a href=\"https://www.google-melange.com/archive/gsoc\" target=\"_blank\">\\n         Previous years\\n        </a>\\n       </li>\\n      </ul>\\n     </div>\\n    </div>\\n   </div>\\n   <div class=\"footer-wrapper wrapper-bottom fixed-outer-width\">\\n    <div layout=\"column\" layout-align=\"space-between center\" layout-gt-sm=\"row\">\\n     <ul class=\"logo-row no-style-list\" layout=\"column\" layout-align=\"start center\" layout-gt-sm=\"row\">\\n      <li>\\n       <a href=\"http://www.google.com\" layout=\"\" layout-align=\"start center\" target=\"_blank\">\\n        <img alt=\"Google\" class=\"google-logo\" src=\"https://www.gstatic.com/images/branding/googlelogo/2x/googlelogo_light_color_92x30dp.png\" srcset=\"https://www.gstatic.com/images/branding/googlelogo/1x/googlelogo_light_color_92x30dp.png 1x,\\n\\t\\t\\t\\t\\t\\t\\t\\t\\t\\thttps://www.gstatic.com/images/branding/googlelogo/2x/googlelogo_light_color_92x30dp.png 2x\"/>\\n       </a>\\n      </li>\\n      <li>\\n       <a class=\"md-button\" href=\"http://www.google.com/intl/en/policies/privacy/\" target=\"_blank\">\\n        Privacy Policy\\n       </a>\\n      </li>\\n      <li>\\n       <a class=\"md-button\" href=\"https://developers.google.com/open-source/gsoc/rules\" target=\"_blank\">\\n        Rules\\n       </a>\\n      </li>\\n     </ul>\\n     <ul class=\"no-style-list\">\\n      <li>\\n       <a class=\"md-button\" href=\"https://developers.google.com/open-source/gsoc/contact\" target=\"_blank\">\\n        Contact\\n       </a>\\n      </li>\\n     </ul>\\n    </div>\\n   </div>\\n  </footer>\\n  <md-sidenav class=\"sidenav-menu md-sidenav-right md-whiteframe-z2\" md-component-id=\"menu\">\\n   <md-content>\\n    <div layout=\"\" layout-align=\"end center\">\\n     <md-button class=\"sidenav-menu__close-button\" ng-click=\"appCtrl.toggleSideMenu()\">\\n      <i class=\"material-icons\">\\n       close\\n      </i>\\n     </md-button>\\n    </div>\\n    <form action=\"/archive/search/\" method=\"GET\">\\n     <div class=\"md-padding\" layout=\"\">\\n      <md-input-container flex=\"\">\\n       <label for=\"sidenav__search\">\\n        Search for projects, organizations or usernames\\n       </label>\\n       <input id=\"sidenav__search\" name=\"q\" type=\"text\" value=\"\" value-from-query-param=\"q\"/>\\n      </md-input-container>\\n     </div>\\n     <div layout=\"\" layout-align=\"end start\">\\n      <button class=\"md-button md-primary\" type=\"submit\">\\n       Search\\n      </button>\\n     </div>\\n    </form>\\n    <h2 class=\"sidenav-menu__title md-title md-padding\">\\n     2017\\n    </h2>\\n    <md-divider>\\n    </md-divider>\\n    <div class=\"sidenav-menu__links\">\\n     <ul class=\"no-style-list\">\\n      <li>\\n       <a class=\"active\" href=\"/archive/2017/organizations/\">\\n        Organizations\\n       </a>\\n      </li>\\n      <li>\\n       <a class=\"\" href=\"/archive/2017/projects/\">\\n        Projects\\n       </a>\\n      </li>\\n     </ul>\\n    </div>\\n   </md-content>\\n  </md-sidenav>\\n  <script src=\"/static/archive/js/49176416f9df042d96a36279f34ecaebdb811ce2.main.js\">\\n  </script>\\n </body>\\n</html>\\n'"
      ]
     },
     "execution_count": 36,
     "metadata": {},
     "output_type": "execute_result"
    }
   ],
   "source": [
    "res1 = requests.get('https://summerofcode.withgoogle.com/archive/2017/organizations/5477575937753088/')\n",
    "soup1 = bs4.BeautifulSoup(res1.content,\"lxml\")\n",
    "soup1.prettify()"
   ]
  },
  {
   "cell_type": "code",
   "execution_count": null,
   "metadata": {
    "collapsed": true
   },
   "outputs": [],
   "source": []
  },
  {
   "cell_type": "code",
   "execution_count": null,
   "metadata": {
    "collapsed": true
   },
   "outputs": [],
   "source": []
  },
  {
   "cell_type": "code",
   "execution_count": null,
   "metadata": {
    "collapsed": true
   },
   "outputs": [],
   "source": []
  },
  {
   "cell_type": "code",
   "execution_count": 81,
   "metadata": {},
   "outputs": [
    {
     "name": "stdout",
     "output_type": "stream",
     "text": [
      "Opened database successfully\n",
      "Table created successfully\n"
     ]
    }
   ],
   "source": [
    "import sqlite3\n",
    "\n",
    "conn = sqlite3.connect('GSOC_ORG.db')\n",
    "print(\"Opened database successfully\");\n",
    "\n",
    "conn.execute('''CREATE TABLE ORGS\n",
    "         (ID INT PRIMARY KEY     NOT NULL,\n",
    "         organization   TEXT    NOT NULL,\n",
    "         link            TEXT,\n",
    "         description    TEXT,\n",
    "         technologies   TEXT\n",
    "         contact    TEXT\n",
    "         );''')\n",
    "print(\"Table created successfully\");\n",
    "\n",
    "conn.close()"
   ]
  },
  {
   "cell_type": "code",
   "execution_count": null,
   "metadata": {
    "collapsed": true
   },
   "outputs": [],
   "source": []
  }
 ],
 "metadata": {
  "kernelspec": {
   "display_name": "Python 3",
   "language": "python",
   "name": "python3"
  },
  "language_info": {
   "codemirror_mode": {
    "name": "ipython",
    "version": 3
   },
   "file_extension": ".py",
   "mimetype": "text/x-python",
   "name": "python",
   "nbconvert_exporter": "python",
   "pygments_lexer": "ipython3",
   "version": "3.6.3"
  }
 },
 "nbformat": 4,
 "nbformat_minor": 2
}
