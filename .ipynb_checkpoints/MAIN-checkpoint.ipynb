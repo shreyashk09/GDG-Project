{
 "cells": [
  {
   "cell_type": "code",
   "execution_count": 1,
   "metadata": {
    "collapsed": true
   },
   "outputs": [],
   "source": [
    "# SCRAPING GSOC ORGANISATIONS"
   ]
  },
  {
   "cell_type": "code",
   "execution_count": 2,
   "metadata": {
    "collapsed": true
   },
   "outputs": [],
   "source": [
    "import requests\n",
    "import bs4"
   ]
  },
  {
   "cell_type": "code",
   "execution_count": 3,
   "metadata": {
    "collapsed": true
   },
   "outputs": [],
   "source": [
    "base_link = 'https://summerofcode.withgoogle.com'\n",
    "organisations_links = []\n",
    "org_links = []\n",
    "org_tech = []\n",
    "org_name = []\n",
    "org_descp = []\n",
    "org_topics = []\n",
    "org_mail = []"
   ]
  },
  {
   "cell_type": "code",
   "execution_count": 4,
   "metadata": {
    "collapsed": true
   },
   "outputs": [],
   "source": [
    "res = requests.get('https://summerofcode.withgoogle.com/archive/2017/organizations/')"
   ]
  },
  {
   "cell_type": "code",
   "execution_count": 5,
   "metadata": {
    "collapsed": true
   },
   "outputs": [],
   "source": [
    "soup = bs4.BeautifulSoup(res.content,\"lxml\")"
   ]
  },
  {
   "cell_type": "code",
   "execution_count": 6,
   "metadata": {
    "collapsed": true
   },
   "outputs": [],
   "source": [
    "links = soup.find_all(\"a\",{'class':\"organization-card__link\"})"
   ]
  },
  {
   "cell_type": "code",
   "execution_count": 7,
   "metadata": {
    "collapsed": true
   },
   "outputs": [],
   "source": [
    "for link in links:\n",
    "    organisations_links.append(base_link + link.get('href'))"
   ]
  },
  {
   "cell_type": "code",
   "execution_count": 8,
   "metadata": {},
   "outputs": [
    {
     "name": "stdout",
     "output_type": "stream",
     "text": [
      "success\n",
      "success\n",
      "success\n",
      "success\n",
      "success\n",
      "success\n",
      "success\n",
      "success\n",
      "success\n",
      "success\n",
      "success\n",
      "success\n",
      "success\n",
      "success\n",
      "success\n",
      "success\n",
      "success\n",
      "success\n",
      "success\n",
      "success\n",
      "success\n",
      "success\n",
      "success\n",
      "success\n",
      "success\n",
      "success\n",
      "success\n",
      "success\n",
      "success\n",
      "success\n",
      "success\n",
      "success\n",
      "success\n",
      "success\n",
      "success\n",
      "success\n",
      "success\n",
      "success\n",
      "success\n",
      "success\n",
      "success\n",
      "success\n",
      "success\n",
      "success\n",
      "success\n",
      "success\n",
      "success\n",
      "success\n",
      "success\n",
      "success\n",
      "success\n",
      "success\n",
      "success\n",
      "success\n",
      "success\n",
      "success\n",
      "success\n",
      "success\n",
      "success\n",
      "success\n",
      "success\n",
      "success\n",
      "success\n",
      "success\n",
      "success\n",
      "success\n",
      "success\n",
      "success\n",
      "success\n",
      "success\n",
      "success\n",
      "success\n",
      "success\n",
      "success\n",
      "success\n",
      "success\n",
      "success\n",
      "success\n",
      "success\n",
      "success\n",
      "success\n",
      "success\n",
      "success\n",
      "success\n",
      "success\n",
      "success\n",
      "success\n",
      "success\n",
      "success\n",
      "success\n",
      "success\n",
      "success\n",
      "success\n",
      "success\n",
      "success\n",
      "success\n",
      "success\n",
      "success\n",
      "success\n",
      "success\n",
      "success\n",
      "success\n",
      "success\n",
      "success\n",
      "success\n",
      "success\n",
      "success\n",
      "success\n",
      "success\n",
      "success\n",
      "success\n",
      "success\n",
      "success\n",
      "success\n",
      "success\n",
      "success\n",
      "success\n",
      "success\n",
      "success\n",
      "success\n",
      "success\n",
      "success\n",
      "success\n",
      "success\n",
      "success\n",
      "success\n",
      "success\n",
      "success\n",
      "success\n",
      "success\n",
      "success\n",
      "success\n",
      "success\n",
      "success\n",
      "success\n",
      "success\n",
      "success\n",
      "success\n",
      "success\n",
      "success\n",
      "success\n",
      "success\n",
      "success\n",
      "success\n",
      "success\n",
      "success\n",
      "success\n",
      "success\n",
      "success\n",
      "success\n",
      "success\n",
      "success\n",
      "success\n",
      "success\n",
      "success\n",
      "success\n",
      "success\n",
      "success\n",
      "success\n",
      "success\n",
      "success\n",
      "success\n",
      "success\n",
      "success\n",
      "success\n",
      "success\n",
      "success\n",
      "success\n",
      "success\n",
      "success\n",
      "success\n",
      "success\n",
      "success\n",
      "success\n",
      "success\n",
      "success\n",
      "success\n",
      "success\n",
      "success\n",
      "success\n",
      "success\n",
      "success\n",
      "success\n",
      "success\n",
      "success\n",
      "success\n",
      "success\n",
      "success\n",
      "success\n",
      "success\n",
      "success\n",
      "success\n",
      "success\n",
      "success\n",
      "success\n",
      "success\n",
      "success\n",
      "success\n",
      "success\n",
      "success\n",
      "success\n",
      "success final\n"
     ]
    }
   ],
   "source": [
    "for org in organisations_links:\n",
    "    res1 = requests.get(org)\n",
    "    soup1 = bs4.BeautifulSoup(res1.content,\"lxml\")\n",
    "    org_links.append(soup1.find(\"a\",{'class':\"org__link\"}).get('href'))\n",
    "    techn =  soup1.find_all(\"li\" ,{'class':'organization__tag organization__tag--technology'})\n",
    "    tl = []\n",
    "    for tech in techn:\n",
    "        tl . append(tech.string)\n",
    "    org_tech.append(tech)\n",
    "    meta_button = soup1.find_all(\"md-button\",{\"class\":\"md-primary org__meta-button\"})\n",
    "    org_mail.append(meta_button[-1].get('href')[7:])\n",
    "    decp = soup1.find('div',{'class':\"archive-project-card__content md-padding font-black-54\" })\n",
    "    if decp is None:\n",
    "        org_descp.append(\"none\")\n",
    "    else:\n",
    "        org_descp.append(decp.string)\n",
    "    org_name.append( soup1.find('h3',{ 'class':\"banner__title\"}).string)\n",
    "    print(\"success\")\n",
    "print(\"success final\")"
   ]
  },
  {
   "cell_type": "code",
   "execution_count": null,
   "metadata": {
    "collapsed": true
   },
   "outputs": [],
   "source": []
  },
  {
   "cell_type": "code",
   "execution_count": 9,
   "metadata": {
    "collapsed": true
   },
   "outputs": [],
   "source": [
    "#### creating database"
   ]
  },
  {
   "cell_type": "code",
   "execution_count": 14,
   "metadata": {},
   "outputs": [
    {
     "name": "stdout",
     "output_type": "stream",
     "text": [
      "Opened database successfully\n",
      "Table created successfully\n",
      "successfull database\n"
     ]
    }
   ],
   "source": [
    "import sqlite3\n",
    "\n",
    "conn = sqlite3.connect('GSOC_ORG.db')\n",
    "print(\"Opened database successfully\");\n",
    "\n",
    "conn.execute('''CREATE TABLE ORGS\n",
    "         (\n",
    "         organization   TEXT    NOT NULL,\n",
    "         link            TEXT,\n",
    "         description    TEXT,\n",
    "         technologies   TEXT,\n",
    "         contact    TEXT\n",
    "         );''')\n",
    "print(\"Table created successfully\");\n",
    "for i in range(len(organisations_links)):\n",
    "    conn.execute(\"INSERT INTO ORGS VALUES('\"+org_name[i]+ \"','\"+str(org_links[i])+\"','\"+str(org_descp[i])+\"','\"+str(org_tech[i])+\"','\"+str(org_mail[i])+\"');\")\n",
    "print(\"successfull database\")\n",
    "conn.close()"
   ]
  },
  {
   "cell_type": "code",
   "execution_count": null,
   "metadata": {
    "collapsed": true
   },
   "outputs": [],
   "source": []
  },
  {
   "cell_type": "code",
   "execution_count": 11,
   "metadata": {},
   "outputs": [
    {
     "name": "stderr",
     "output_type": "stream",
     "text": [
      " * Running on http://127.0.0.1:5002/ (Press CTRL+C to quit)\n"
     ]
    }
   ],
   "source": [
    "from flask import Flask, request\n",
    "from flask_restful import Resource, Api\n",
    "from sqlalchemy import create_engine\n",
    "from json import dumps\n",
    "from flask import jsonify\n",
    "\n",
    "db_connect = create_engine('sqlite:////' +'Users/shreyashkawalkar/Developer/GDG Project/GDG-Project/GSOC_ORG.db')\n",
    "app = Flask(__name__)\n",
    "api = Api(app)\n",
    "\n",
    "class Organisations(Resource):\n",
    "    def get(self):\n",
    "        conn = db_connect.connect() # connect to database\n",
    "        query = conn.execute(\"select * from ORGS\") # This line performs query and returns json result\n",
    "        return {'employees': [i[0] for i in query.cursor.fetchall()]} # Fetches first column that is Employee ID\n",
    "\n",
    "api.add_resource(Organisations, '/organisations') # Route_1\n",
    "\n",
    "\n",
    "if __name__ == '__main__':\n",
    "     app.run(port='5002')\n",
    "     "
   ]
  },
  {
   "cell_type": "code",
   "execution_count": null,
   "metadata": {
    "collapsed": true
   },
   "outputs": [],
   "source": [
    "#complete"
   ]
  },
  {
   "cell_type": "code",
   "execution_count": null,
   "metadata": {
    "collapsed": true
   },
   "outputs": [],
   "source": []
  },
  {
   "cell_type": "code",
   "execution_count": null,
   "metadata": {
    "collapsed": true
   },
   "outputs": [],
   "source": []
  },
  {
   "cell_type": "code",
   "execution_count": null,
   "metadata": {
    "collapsed": true
   },
   "outputs": [],
   "source": []
  },
  {
   "cell_type": "code",
   "execution_count": null,
   "metadata": {
    "collapsed": true
   },
   "outputs": [],
   "source": []
  },
  {
   "cell_type": "code",
   "execution_count": null,
   "metadata": {
    "collapsed": true
   },
   "outputs": [],
   "source": []
  },
  {
   "cell_type": "code",
   "execution_count": 1,
   "metadata": {},
   "outputs": [
    {
     "name": "stderr",
     "output_type": "stream",
     "text": [
      " * Running on http://127.0.0.1:5000/ (Press CTRL+C to quit)\n",
      " * Restarting with stat\n"
     ]
    },
    {
     "ename": "SystemExit",
     "evalue": "1",
     "output_type": "error",
     "traceback": [
      "An exception has occurred, use %tb to see the full traceback.\n",
      "\u001b[0;31mSystemExit\u001b[0m\u001b[0;31m:\u001b[0m 1\n"
     ]
    },
    {
     "name": "stderr",
     "output_type": "stream",
     "text": [
      "/Users/shreyashkawalkar/anaconda3/lib/python3.6/site-packages/IPython/core/interactiveshell.py:2870: UserWarning: To exit: use 'exit', 'quit', or Ctrl-D.\n",
      "  warn(\"To exit: use 'exit', 'quit', or Ctrl-D.\", stacklevel=1)\n"
     ]
    }
   ],
   "source": [
    "from flask import Flask, request, jsonify\n",
    "from flask_sqlalchemy import SQLAlchemy\n",
    "from flask_marshmallow import Marshmallow\n",
    "import os\n",
    "import sys\n",
    "\n",
    "app = Flask(__name__)\n",
    "app.config['SQLALCHEMY_DATABASE_URI'] = 'GSOC_ORG.sqlite'\n",
    "app.config['SQLALCHEMY_TRACK_MODIFICATIONS'] = False\n",
    "db = SQLAlchemy(app)\n",
    "ma = Marshmallow(app)\n",
    "\n",
    "\n",
    "class org(db.Model):\n",
    "    id = db.Column(db.Integer, primary_key=True)\n",
    "    organisation = db.Column(db.TEXT, unique=True)\n",
    "    link = db.Column(db.TEXT)\n",
    "    description = db.Column(db.TEXT)\n",
    "    technologies = db.Column(db.TEXT)\n",
    "    contact = db.Column(db.TEXT)\n",
    "    def __init__(self, organisation, link, description, technologies, contact):\n",
    "        self.organisation = organisation\n",
    "        self.link = link\n",
    "        self.description = description\n",
    "        self.technologies = technologies\n",
    "        self.contact = contact\n",
    "        \n",
    "\n",
    "\n",
    "class orgs(ma.Schema):\n",
    "    class Meta:\n",
    "        fields = ('organisation', 'link', 'description', 'technologies', 'contact')\n",
    "\n",
    "orgs_schema = orgs(many=True)\n",
    "\n",
    "\n",
    "@app.route(\"/organisations\", methods=[\"GET\"])\n",
    "def get_orgs():\n",
    "    all_orgs = org.query.all()\n",
    "    result = orgs_schema.dump(all_orgs)\n",
    "    return jsonify(result.data)\n",
    "\n",
    "\n",
    "if __name__ == '__main__':\n",
    "    app.run(debug=True)\n",
    "    app = QApplication(sys.argv)\n",
    "    app.aboutToQuit.connect(app.deleteLater)\n",
    "    sys.exit(0)"
   ]
  }
 ],
 "metadata": {
  "kernelspec": {
   "display_name": "Python 3",
   "language": "python",
   "name": "python3"
  },
  "language_info": {
   "codemirror_mode": {
    "name": "ipython",
    "version": 3
   },
   "file_extension": ".py",
   "mimetype": "text/x-python",
   "name": "python",
   "nbconvert_exporter": "python",
   "pygments_lexer": "ipython3",
   "version": "3.6.3"
  }
 },
 "nbformat": 4,
 "nbformat_minor": 2
}
